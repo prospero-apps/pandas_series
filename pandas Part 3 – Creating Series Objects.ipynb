{
 "cells": [
  {
   "cell_type": "markdown",
   "metadata": {},
   "source": [
    "In the previous part we introduced the Series class, which is one of the fundamental data types in pandas. Let's quickly recreate the Series object from the previous part:"
   ]
  },
  {
   "cell_type": "code",
   "execution_count": 1,
   "metadata": {},
   "outputs": [
    {
     "data": {
      "text/plain": [
       "0    2.35\n",
       "1    4.11\n",
       "2    0.87\n",
       "3    2.76\n",
       "4    3.12\n",
       "5    5.79\n",
       "dtype: float64"
      ]
     },
     "execution_count": 1,
     "metadata": {},
     "output_type": "execute_result"
    }
   ],
   "source": [
    "import numpy as np\n",
    "import pandas as pd\n",
    "\n",
    "nums = pd.Series([2.35, 4.11, 0.87, 2.76, 3.12, 5.79])\n",
    "nums"
   ]
  },
  {
   "cell_type": "markdown",
   "metadata": {},
   "source": [
    "ARBITRARY INDICES\n",
    "\n",
    "This Series was created with just one argument, the list of float numbers. This is why it has the default indexing starting at 0 with values increasing by one. But you can define the index explicitly, passing it as the second argument. The values do not have to be in order:"
   ]
  },
  {
   "cell_type": "code",
   "execution_count": 3,
   "metadata": {},
   "outputs": [
    {
     "data": {
      "text/plain": [
       "3    2.35\n",
       "4    4.11\n",
       "5    0.87\n",
       "8    2.76\n",
       "7    3.12\n",
       "6    5.79\n",
       "dtype: float64"
      ]
     },
     "execution_count": 3,
     "metadata": {},
     "output_type": "execute_result"
    }
   ],
   "source": [
    "nums = pd.Series([2.35, 4.11, 0.87, 2.76, 3.12, 5.79],\n",
    "                index = [3, 4, 5, 8, 7, 6])\n",
    "nums"
   ]
  },
  {
   "cell_type": "markdown",
   "metadata": {},
   "source": [
    "What's more, index value may be even repeated:"
   ]
  },
  {
   "cell_type": "code",
   "execution_count": 4,
   "metadata": {},
   "outputs": [
    {
     "data": {
      "text/plain": [
       "4    2.35\n",
       "4    4.11\n",
       "4    0.87\n",
       "6    2.76\n",
       "9    3.12\n",
       "6    5.79\n",
       "dtype: float64"
      ]
     },
     "execution_count": 4,
     "metadata": {},
     "output_type": "execute_result"
    }
   ],
   "source": [
    "nums = pd.Series([2.35, 4.11, 0.87, 2.76, 3.12, 5.79],\n",
    "                index = [4, 4, 4, 6, 9, 6])\n",
    "nums"
   ]
  },
  {
   "cell_type": "markdown",
   "metadata": {},
   "source": [
    "Finally, they don't have to be numbers at all. They can be strings if it makes sense:"
   ]
  },
  {
   "cell_type": "code",
   "execution_count": 5,
   "metadata": {},
   "outputs": [
    {
     "data": {
      "text/plain": [
       "a    2.35\n",
       "b    4.11\n",
       "c    0.87\n",
       "d    2.76\n",
       "e    3.12\n",
       "f    5.79\n",
       "dtype: float64"
      ]
     },
     "execution_count": 5,
     "metadata": {},
     "output_type": "execute_result"
    }
   ],
   "source": [
    "nums = pd.Series([2.35, 4.11, 0.87, 2.76, 3.12, 5.79],\n",
    "                index = ['a', 'b', 'c', 'd', 'e', 'f'])\n",
    "nums"
   ]
  },
  {
   "cell_type": "markdown",
   "metadata": {},
   "source": [
    "Or, just for demonstration purposes, something like this:"
   ]
  },
  {
   "cell_type": "code",
   "execution_count": 6,
   "metadata": {},
   "outputs": [
    {
     "data": {
      "text/plain": [
       "True                2.35\n",
       "False               4.11\n",
       "index 3             0.87\n",
       "(1, 2, 3)           2.76\n",
       "[a, b]              3.12\n",
       "{1: 'a', 2: 'b'}    5.79\n",
       "dtype: float64"
      ]
     },
     "execution_count": 6,
     "metadata": {},
     "output_type": "execute_result"
    }
   ],
   "source": [
    "nums = pd.Series([2.35, 4.11, 0.87, 2.76, 3.12, 5.79],\n",
    "                index = [True, False, 'index 3', (1, 2, 3), ['a', 'b'], {1: 'a', 2: 'b'}])\n",
    "nums"
   ]
  },
  {
   "cell_type": "markdown",
   "metadata": {},
   "source": [
    "This example is not very practical, but it demonstrates that you can use any data type as the index. \n",
    "\n",
    "If you use indices, which are not integers, you can also use them to access elements and for slicing:"
   ]
  },
  {
   "cell_type": "code",
   "execution_count": 11,
   "metadata": {},
   "outputs": [
    {
     "data": {
      "text/plain": [
       "3.12"
      ]
     },
     "execution_count": 11,
     "metadata": {},
     "output_type": "execute_result"
    }
   ],
   "source": [
    "nums = pd.Series([2.35, 4.11, 0.87, 2.76, 3.12, 5.79],\n",
    "                index = ['A', 'B', 'C', 'D', 'E', 'F'])\n",
    "\n",
    "# access element at index E\n",
    "nums['E']"
   ]
  },
  {
   "cell_type": "code",
   "execution_count": 12,
   "metadata": {},
   "outputs": [
    {
     "data": {
      "text/plain": [
       "C    0.87\n",
       "D    2.76\n",
       "E    3.12\n",
       "F    5.79\n",
       "dtype: float64"
      ]
     },
     "execution_count": 12,
     "metadata": {},
     "output_type": "execute_result"
    }
   ],
   "source": [
    "# slice from element at index 'C' to the end\n",
    "nums['C':]"
   ]
  },
  {
   "cell_type": "markdown",
   "metadata": {},
   "source": [
    "SERIES FROM DICTIONARY\n",
    "\n",
    "A more practical example would be creating a Series from a dictionary. Then the keys will be the indices:"
   ]
  },
  {
   "cell_type": "code",
   "execution_count": 13,
   "metadata": {},
   "outputs": [
    {
     "data": {
      "text/plain": [
       "Martha Williams    40000\n",
       "Ben Hacker         36000\n",
       "Michael Johnson    39500\n",
       "Tess Danvil        42600\n",
       "Emily Prat         32800\n",
       "dtype: int64"
      ]
     },
     "execution_count": 13,
     "metadata": {},
     "output_type": "execute_result"
    }
   ],
   "source": [
    "# a dictionary\n",
    "salary_dict = {'Martha Williams': 40000,\n",
    "           'Ben Hacker': 36000,\n",
    "           'Michael Johnson': 39500,\n",
    "           'Tess Danvil': 42600,\n",
    "           'Emily Prat': 32800}\n",
    "\n",
    "# a Series\n",
    "salaries = pd.Series(salary_dict)\n",
    "salaries"
   ]
  },
  {
   "cell_type": "markdown",
   "metadata": {},
   "source": [
    "Naturally, you can use these indices to access elements and for slicing:"
   ]
  },
  {
   "cell_type": "code",
   "execution_count": 14,
   "metadata": {},
   "outputs": [
    {
     "data": {
      "text/plain": [
       "42600"
      ]
     },
     "execution_count": 14,
     "metadata": {},
     "output_type": "execute_result"
    }
   ],
   "source": [
    "# access Tess Danvil's salary\n",
    "salaries['Tess Danvil']"
   ]
  },
  {
   "cell_type": "code",
   "execution_count": 15,
   "metadata": {},
   "outputs": [
    {
     "data": {
      "text/plain": [
       "Ben Hacker     36000\n",
       "Tess Danvil    42600\n",
       "dtype: int64"
      ]
     },
     "execution_count": 15,
     "metadata": {},
     "output_type": "execute_result"
    }
   ],
   "source": [
    "# slice from Ben Hacker to the end, every other element\n",
    "salaries['Ben Hacker'::2]"
   ]
  },
  {
   "cell_type": "markdown",
   "metadata": {},
   "source": [
    "You can use dictionary methods to access just the keys or key-value pairs as tuples:"
   ]
  },
  {
   "cell_type": "code",
   "execution_count": 3,
   "metadata": {},
   "outputs": [
    {
     "data": {
      "text/plain": [
       "Index(['Martha Williams', 'Ben Hacker', 'Michael Johnson', 'Tess Danvil',\n",
       "       'Emily Prat'],\n",
       "      dtype='object')"
      ]
     },
     "execution_count": 3,
     "metadata": {},
     "output_type": "execute_result"
    }
   ],
   "source": [
    "# just the keys\n",
    "salaries.keys()"
   ]
  },
  {
   "cell_type": "code",
   "execution_count": 8,
   "metadata": {},
   "outputs": [
    {
     "data": {
      "text/plain": [
       "[('Martha Williams', 40000),\n",
       " ('Ben Hacker', 36000),\n",
       " ('Michael Johnson', 39500),\n",
       " ('Tess Danvil', 42600),\n",
       " ('Emily Prat', 32800)]"
      ]
     },
     "execution_count": 8,
     "metadata": {},
     "output_type": "execute_result"
    }
   ],
   "source": [
    "# key-value pairs as tuples\n",
    "list(salaries.items())"
   ]
  },
  {
   "cell_type": "markdown",
   "metadata": {},
   "source": [
    "If you want to check whether a particular key is in the Series object, you can use the membership operators:"
   ]
  },
  {
   "cell_type": "code",
   "execution_count": 9,
   "metadata": {},
   "outputs": [
    {
     "data": {
      "text/plain": [
       "True"
      ]
     },
     "execution_count": 9,
     "metadata": {},
     "output_type": "execute_result"
    }
   ],
   "source": [
    "'Ben Hacker' in salaries"
   ]
  },
  {
   "cell_type": "code",
   "execution_count": 10,
   "metadata": {},
   "outputs": [
    {
     "data": {
      "text/plain": [
       "True"
      ]
     },
     "execution_count": 10,
     "metadata": {},
     "output_type": "execute_result"
    }
   ],
   "source": [
    "'Steve McKenzie' not in salaries"
   ]
  },
  {
   "cell_type": "markdown",
   "metadata": {},
   "source": [
    "You can also modify Series objects and add new ones just like you do with dictionaries:"
   ]
  },
  {
   "cell_type": "code",
   "execution_count": 11,
   "metadata": {},
   "outputs": [
    {
     "data": {
      "text/plain": [
       "Martha Williams    40000\n",
       "Ben Hacker         36000\n",
       "Michael Johnson    39500\n",
       "Tess Danvil        49000\n",
       "Emily Prat         32800\n",
       "Steve McKenzie     31400\n",
       "dtype: int64"
      ]
     },
     "execution_count": 11,
     "metadata": {},
     "output_type": "execute_result"
    }
   ],
   "source": [
    "# let's modify an object\n",
    "salaries['Tess Danvil'] = 49000\n",
    "\n",
    "# let's add a new object\n",
    "salaries['Steve McKenzie'] = 31400\n",
    "\n",
    "salaries"
   ]
  },
  {
   "cell_type": "markdown",
   "metadata": {},
   "source": [
    "If you create a Series from a dictionary, you can explicitly indicate which keys you want to be used, how many times and in what order:"
   ]
  },
  {
   "cell_type": "code",
   "execution_count": 17,
   "metadata": {},
   "outputs": [
    {
     "data": {
      "text/plain": [
       "d    72\n",
       "f    36\n",
       "e    81\n",
       "f    36\n",
       "dtype: int64"
      ]
     },
     "execution_count": 17,
     "metadata": {},
     "output_type": "execute_result"
    }
   ],
   "source": [
    "pd.Series({'a': 74, 'b': 32, 'c': 21, 'd': 72, 'e': 81, 'f': 36},\n",
    "         index = ['d', 'f', 'e', 'f'])"
   ]
  },
  {
   "cell_type": "markdown",
   "metadata": {},
   "source": [
    "EQUAL VALUES\n",
    "\n",
    "Finally, if you want all the values to be equal, you can create a Series from a scalar:"
   ]
  },
  {
   "cell_type": "code",
   "execution_count": 16,
   "metadata": {},
   "outputs": [
    {
     "data": {
      "text/plain": [
       "10    2.5\n",
       "20    2.5\n",
       "30    2.5\n",
       "40    2.5\n",
       "50    2.5\n",
       "60    2.5\n",
       "dtype: float64"
      ]
     },
     "execution_count": 16,
     "metadata": {},
     "output_type": "execute_result"
    }
   ],
   "source": [
    "pd.Series(2.5, index = [10, 20, 30, 40, 50, 60])"
   ]
  }
 ],
 "metadata": {
  "kernelspec": {
   "display_name": "Python 3",
   "language": "python",
   "name": "python3"
  },
  "language_info": {
   "codemirror_mode": {
    "name": "ipython",
    "version": 3
   },
   "file_extension": ".py",
   "mimetype": "text/x-python",
   "name": "python",
   "nbconvert_exporter": "python",
   "pygments_lexer": "ipython3",
   "version": "3.7.4"
  }
 },
 "nbformat": 4,
 "nbformat_minor": 2
}
