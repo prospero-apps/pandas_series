{
 "cells": [
  {
   "cell_type": "markdown",
   "metadata": {},
   "source": [
    "EXPLICIT CREATION OF MULTI-INDEXED OBJECTS\n",
    "\n",
    "In the previous part of the Pandas series we were creating multi-indexed objects implicitly, so actually they were created behind the scenes. But sometimes you may want to create them explicitly. We can explicitly create MultiIndex objects by means of some methods in the MultiIndex class. In particular, these include: from_tuples (which we already used a couple times), from_arrays and from_product. \n",
    "\n",
    "*** from_tuples ***\n",
    "\n",
    "Let's have a look at from_tuples one more time:"
   ]
  },
  {
   "cell_type": "code",
   "execution_count": 1,
   "metadata": {},
   "outputs": [
    {
     "data": {
      "text/plain": [
       "MultiIndex([(     'Asia', 2019),\n",
       "            (     'Asia', 2020),\n",
       "            ('Australia', 2019),\n",
       "            ('Australia', 2020)],\n",
       "           )"
      ]
     },
     "execution_count": 1,
     "metadata": {},
     "output_type": "execute_result"
    }
   ],
   "source": [
    "import numpy as np\n",
    "import pandas as pd\n",
    "\n",
    "# Let's create a MultiIndex.\n",
    "a = pd.MultiIndex.from_tuples([('Asia', 2019), ('Asia', 2020), ('Australia', 2019), ('Australia', 2020)])\n",
    "\n",
    "a"
   ]
  },
  {
   "cell_type": "markdown",
   "metadata": {},
   "source": [
    "*** from_arrays ***\n",
    "\n",
    "Now, let's use the from_arrays method to create exactly the same MultiIndex:"
   ]
  },
  {
   "cell_type": "code",
   "execution_count": 2,
   "metadata": {},
   "outputs": [
    {
     "data": {
      "text/plain": [
       "MultiIndex([(     'Asia', 2019),\n",
       "            (     'Asia', 2020),\n",
       "            ('Australia', 2019),\n",
       "            ('Australia', 2020)],\n",
       "           )"
      ]
     },
     "execution_count": 2,
     "metadata": {},
     "output_type": "execute_result"
    }
   ],
   "source": [
    "b = pd.MultiIndex.from_arrays([['Asia', 'Asia', 'Australia', 'Australia'], [2019, 2020, 2019, 2020]])\n",
    "b"
   ]
  },
  {
   "cell_type": "markdown",
   "metadata": {},
   "source": [
    "*** from_product ***\n",
    "\n",
    "The two methods above have pretty self-explanatory names. The third method, from_product, is pretty simple too. It just creates a Cartesian product of single indices, so we get all possible combinations. Let's re-create the MultiIndex that we just created, this time using the from_product method:"
   ]
  },
  {
   "cell_type": "code",
   "execution_count": 3,
   "metadata": {},
   "outputs": [
    {
     "data": {
      "text/plain": [
       "MultiIndex([(     'Asia', 2019),\n",
       "            (     'Asia', 2020),\n",
       "            ('Australia', 2019),\n",
       "            ('Australia', 2020)],\n",
       "           )"
      ]
     },
     "execution_count": 3,
     "metadata": {},
     "output_type": "execute_result"
    }
   ],
   "source": [
    "c = pd.MultiIndex.from_product([['Asia', 'Australia'], [2019, 2020]])\n",
    "c"
   ]
  },
  {
   "cell_type": "markdown",
   "metadata": {},
   "source": [
    "LEVELS AND CODES\n",
    "\n",
    "Besides the three methods, there are other ways to create MultiIndex objects. For example, you can explicitly pass the levels and codes. You already saw levels and codes in part 12 of the series. Here's how we can use them to create a MultiIndex:"
   ]
  },
  {
   "cell_type": "code",
   "execution_count": 4,
   "metadata": {},
   "outputs": [
    {
     "data": {
      "text/plain": [
       "MultiIndex([(     'Asia', 2019),\n",
       "            (     'Asia', 2020),\n",
       "            ('Australia', 2019),\n",
       "            ('Australia', 2020)],\n",
       "           )"
      ]
     },
     "execution_count": 4,
     "metadata": {},
     "output_type": "execute_result"
    }
   ],
   "source": [
    "d = pd.MultiIndex(levels=[['Asia', 'Australia'], [2019, 2020]],\n",
    "                  codes=[[0, 0, 1, 1], [0, 1, 0, 1]])\n",
    "d"
   ]
  },
  {
   "cell_type": "markdown",
   "metadata": {},
   "source": [
    "Now you can use the MultiIndex to create multi-indexed objects. All the MultiIndexes above (a, b, c, d) are identical, so we can use any of them. Here's an example:"
   ]
  },
  {
   "cell_type": "code",
   "execution_count": 5,
   "metadata": {},
   "outputs": [
    {
     "data": {
      "text/plain": [
       "Asia       2019    100\n",
       "           2020    200\n",
       "Australia  2019    150\n",
       "           2020    250\n",
       "dtype: int64"
      ]
     },
     "execution_count": 5,
     "metadata": {},
     "output_type": "execute_result"
    }
   ],
   "source": [
    "# the data\n",
    "data = [100, 200,\n",
    "        150, 250]\n",
    "\n",
    "# Let's create a Series object with hierarchical indices.\n",
    "s = pd.Series(data, index=a)\n",
    "s"
   ]
  },
  {
   "cell_type": "markdown",
   "metadata": {},
   "source": [
    "In the next part of the series we'll be talking about named MultiIndex levels."
   ]
  }
 ],
 "metadata": {
  "kernelspec": {
   "display_name": "Python 3",
   "language": "python",
   "name": "python3"
  },
  "language_info": {
   "codemirror_mode": {
    "name": "ipython",
    "version": 3
   },
   "file_extension": ".py",
   "mimetype": "text/x-python",
   "name": "python",
   "nbconvert_exporter": "python",
   "pygments_lexer": "ipython3",
   "version": "3.7.4"
  }
 },
 "nbformat": 4,
 "nbformat_minor": 2
}
