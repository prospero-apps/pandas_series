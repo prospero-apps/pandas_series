{
 "cells": [
  {
   "cell_type": "markdown",
   "metadata": {},
   "source": [
    "INDEXING AND SLICING MULTIPLY INDEXED DATAFRAMES\n",
    "\n",
    "In the previous part of the Pandas series we were talking about indexing and slicing multiply indexed Series objects. Today we'll be talking about multiply indexed DataFrames. They behave very much like Series objects as far as indexing and slicing is concerned. Here's the example from one of the previous parts that we'll be working on:"
   ]
  },
  {
   "cell_type": "code",
   "execution_count": 1,
   "metadata": {},
   "outputs": [
    {
     "data": {
      "text/html": [
       "<div>\n",
       "<style scoped>\n",
       "    .dataframe tbody tr th:only-of-type {\n",
       "        vertical-align: middle;\n",
       "    }\n",
       "\n",
       "    .dataframe tbody tr th {\n",
       "        vertical-align: top;\n",
       "    }\n",
       "\n",
       "    .dataframe thead tr th {\n",
       "        text-align: left;\n",
       "    }\n",
       "\n",
       "    .dataframe thead tr:last-of-type th {\n",
       "        text-align: right;\n",
       "    }\n",
       "</style>\n",
       "<table border=\"1\" class=\"dataframe\">\n",
       "  <thead>\n",
       "    <tr>\n",
       "      <th></th>\n",
       "      <th>company</th>\n",
       "      <th colspan=\"2\" halign=\"left\">Company A</th>\n",
       "      <th colspan=\"2\" halign=\"left\">Company B</th>\n",
       "      <th colspan=\"2\" halign=\"left\">Company C</th>\n",
       "    </tr>\n",
       "    <tr>\n",
       "      <th></th>\n",
       "      <th>total value</th>\n",
       "      <th>sales</th>\n",
       "      <th>purchases</th>\n",
       "      <th>sales</th>\n",
       "      <th>purchases</th>\n",
       "      <th>sales</th>\n",
       "      <th>purchases</th>\n",
       "    </tr>\n",
       "    <tr>\n",
       "      <th>year</th>\n",
       "      <th>period</th>\n",
       "      <th></th>\n",
       "      <th></th>\n",
       "      <th></th>\n",
       "      <th></th>\n",
       "      <th></th>\n",
       "      <th></th>\n",
       "    </tr>\n",
       "  </thead>\n",
       "  <tbody>\n",
       "    <tr>\n",
       "      <td rowspan=\"2\" valign=\"top\">2017</td>\n",
       "      <td>Jan-Jun</td>\n",
       "      <td>52016</td>\n",
       "      <td>75802</td>\n",
       "      <td>46574</td>\n",
       "      <td>35849</td>\n",
       "      <td>37107</td>\n",
       "      <td>89150</td>\n",
       "    </tr>\n",
       "    <tr>\n",
       "      <td>Jul-Dec</td>\n",
       "      <td>46388</td>\n",
       "      <td>79543</td>\n",
       "      <td>47696</td>\n",
       "      <td>86961</td>\n",
       "      <td>32138</td>\n",
       "      <td>64179</td>\n",
       "    </tr>\n",
       "    <tr>\n",
       "      <td rowspan=\"2\" valign=\"top\">2018</td>\n",
       "      <td>Jan-Jun</td>\n",
       "      <td>94779</td>\n",
       "      <td>90781</td>\n",
       "      <td>64409</td>\n",
       "      <td>62316</td>\n",
       "      <td>49368</td>\n",
       "      <td>51174</td>\n",
       "    </tr>\n",
       "    <tr>\n",
       "      <td>Jul-Dec</td>\n",
       "      <td>21693</td>\n",
       "      <td>68970</td>\n",
       "      <td>79971</td>\n",
       "      <td>56702</td>\n",
       "      <td>52753</td>\n",
       "      <td>97088</td>\n",
       "    </tr>\n",
       "    <tr>\n",
       "      <td rowspan=\"2\" valign=\"top\">2019</td>\n",
       "      <td>Jan-Jun</td>\n",
       "      <td>49221</td>\n",
       "      <td>60597</td>\n",
       "      <td>36683</td>\n",
       "      <td>47390</td>\n",
       "      <td>83167</td>\n",
       "      <td>30133</td>\n",
       "    </tr>\n",
       "    <tr>\n",
       "      <td>Jul-Dec</td>\n",
       "      <td>29882</td>\n",
       "      <td>80608</td>\n",
       "      <td>76448</td>\n",
       "      <td>27891</td>\n",
       "      <td>94124</td>\n",
       "      <td>43042</td>\n",
       "    </tr>\n",
       "  </tbody>\n",
       "</table>\n",
       "</div>"
      ],
      "text/plain": [
       "company      Company A           Company B           Company C          \n",
       "total value      sales purchases     sales purchases     sales purchases\n",
       "year period                                                             \n",
       "2017 Jan-Jun     52016     75802     46574     35849     37107     89150\n",
       "     Jul-Dec     46388     79543     47696     86961     32138     64179\n",
       "2018 Jan-Jun     94779     90781     64409     62316     49368     51174\n",
       "     Jul-Dec     21693     68970     79971     56702     52753     97088\n",
       "2019 Jan-Jun     49221     60597     36683     47390     83167     30133\n",
       "     Jul-Dec     29882     80608     76448     27891     94124     43042"
      ]
     },
     "execution_count": 1,
     "metadata": {},
     "output_type": "execute_result"
    }
   ],
   "source": [
    "import numpy as np\n",
    "import pandas as pd\n",
    "\n",
    "rows = pd.MultiIndex.from_product([[2017, 2018, 2019], ['Jan-Jun', 'Jul-Dec']],\n",
    "                                  names=['year', 'period'])\n",
    "\n",
    "columns = pd.MultiIndex.from_product([['Company A', 'Company B', 'Company C'], ['sales', 'purchases']],\n",
    "                                  names=['company', 'total value'])\n",
    "\n",
    "data = np.random.randint(20000, 100000, (6, 6))\n",
    "a = pd.DataFrame(data, index=rows, columns=columns)\n",
    "a"
   ]
  },
  {
   "cell_type": "markdown",
   "metadata": {},
   "source": [
    "Here are some examples of indexing and slicing:"
   ]
  },
  {
   "cell_type": "code",
   "execution_count": 2,
   "metadata": {},
   "outputs": [
    {
     "data": {
      "text/html": [
       "<div>\n",
       "<style scoped>\n",
       "    .dataframe tbody tr th:only-of-type {\n",
       "        vertical-align: middle;\n",
       "    }\n",
       "\n",
       "    .dataframe tbody tr th {\n",
       "        vertical-align: top;\n",
       "    }\n",
       "\n",
       "    .dataframe thead th {\n",
       "        text-align: right;\n",
       "    }\n",
       "</style>\n",
       "<table border=\"1\" class=\"dataframe\">\n",
       "  <thead>\n",
       "    <tr style=\"text-align: right;\">\n",
       "      <th></th>\n",
       "      <th>total value</th>\n",
       "      <th>sales</th>\n",
       "      <th>purchases</th>\n",
       "    </tr>\n",
       "    <tr>\n",
       "      <th>year</th>\n",
       "      <th>period</th>\n",
       "      <th></th>\n",
       "      <th></th>\n",
       "    </tr>\n",
       "  </thead>\n",
       "  <tbody>\n",
       "    <tr>\n",
       "      <td rowspan=\"2\" valign=\"top\">2017</td>\n",
       "      <td>Jan-Jun</td>\n",
       "      <td>37107</td>\n",
       "      <td>89150</td>\n",
       "    </tr>\n",
       "    <tr>\n",
       "      <td>Jul-Dec</td>\n",
       "      <td>32138</td>\n",
       "      <td>64179</td>\n",
       "    </tr>\n",
       "    <tr>\n",
       "      <td rowspan=\"2\" valign=\"top\">2018</td>\n",
       "      <td>Jan-Jun</td>\n",
       "      <td>49368</td>\n",
       "      <td>51174</td>\n",
       "    </tr>\n",
       "    <tr>\n",
       "      <td>Jul-Dec</td>\n",
       "      <td>52753</td>\n",
       "      <td>97088</td>\n",
       "    </tr>\n",
       "    <tr>\n",
       "      <td rowspan=\"2\" valign=\"top\">2019</td>\n",
       "      <td>Jan-Jun</td>\n",
       "      <td>83167</td>\n",
       "      <td>30133</td>\n",
       "    </tr>\n",
       "    <tr>\n",
       "      <td>Jul-Dec</td>\n",
       "      <td>94124</td>\n",
       "      <td>43042</td>\n",
       "    </tr>\n",
       "  </tbody>\n",
       "</table>\n",
       "</div>"
      ],
      "text/plain": [
       "total value   sales  purchases\n",
       "year period                   \n",
       "2017 Jan-Jun  37107      89150\n",
       "     Jul-Dec  32138      64179\n",
       "2018 Jan-Jun  49368      51174\n",
       "     Jul-Dec  52753      97088\n",
       "2019 Jan-Jun  83167      30133\n",
       "     Jul-Dec  94124      43042"
      ]
     },
     "execution_count": 2,
     "metadata": {},
     "output_type": "execute_result"
    }
   ],
   "source": [
    "# Let's access all data relevant to Company C.\n",
    "a['Company C']"
   ]
  },
  {
   "cell_type": "code",
   "execution_count": 3,
   "metadata": {},
   "outputs": [
    {
     "data": {
      "text/plain": [
       "year  period \n",
       "2017  Jan-Jun    52016\n",
       "      Jul-Dec    46388\n",
       "2018  Jan-Jun    94779\n",
       "      Jul-Dec    21693\n",
       "2019  Jan-Jun    49221\n",
       "      Jul-Dec    29882\n",
       "Name: (Company A, sales), dtype: int32"
      ]
     },
     "execution_count": 3,
     "metadata": {},
     "output_type": "execute_result"
    }
   ],
   "source": [
    "# And now we need just the sales data of Company A.\n",
    "a['Company A', 'sales']"
   ]
  },
  {
   "cell_type": "code",
   "execution_count": 4,
   "metadata": {},
   "outputs": [
    {
     "data": {
      "text/html": [
       "<div>\n",
       "<style scoped>\n",
       "    .dataframe tbody tr th:only-of-type {\n",
       "        vertical-align: middle;\n",
       "    }\n",
       "\n",
       "    .dataframe tbody tr th {\n",
       "        vertical-align: top;\n",
       "    }\n",
       "\n",
       "    .dataframe thead tr th {\n",
       "        text-align: left;\n",
       "    }\n",
       "\n",
       "    .dataframe thead tr:last-of-type th {\n",
       "        text-align: right;\n",
       "    }\n",
       "</style>\n",
       "<table border=\"1\" class=\"dataframe\">\n",
       "  <thead>\n",
       "    <tr>\n",
       "      <th></th>\n",
       "      <th>company</th>\n",
       "      <th colspan=\"2\" halign=\"left\">Company A</th>\n",
       "    </tr>\n",
       "    <tr>\n",
       "      <th></th>\n",
       "      <th>total value</th>\n",
       "      <th>sales</th>\n",
       "      <th>purchases</th>\n",
       "    </tr>\n",
       "    <tr>\n",
       "      <th>year</th>\n",
       "      <th>period</th>\n",
       "      <th></th>\n",
       "      <th></th>\n",
       "    </tr>\n",
       "  </thead>\n",
       "  <tbody>\n",
       "    <tr>\n",
       "      <td rowspan=\"2\" valign=\"top\">2017</td>\n",
       "      <td>Jan-Jun</td>\n",
       "      <td>52016</td>\n",
       "      <td>75802</td>\n",
       "    </tr>\n",
       "    <tr>\n",
       "      <td>Jul-Dec</td>\n",
       "      <td>46388</td>\n",
       "      <td>79543</td>\n",
       "    </tr>\n",
       "  </tbody>\n",
       "</table>\n",
       "</div>"
      ],
      "text/plain": [
       "company      Company A          \n",
       "total value      sales purchases\n",
       "year period                     \n",
       "2017 Jan-Jun     52016     75802\n",
       "     Jul-Dec     46388     79543"
      ]
     },
     "execution_count": 4,
     "metadata": {},
     "output_type": "execute_result"
    }
   ],
   "source": [
    "# We can also use the loc and iloc indexers, the former for explicit label indices and the latter for \n",
    "# implicit positional integer indices. \n",
    "a.iloc[:2, :2]"
   ]
  },
  {
   "cell_type": "code",
   "execution_count": 5,
   "metadata": {},
   "outputs": [
    {
     "data": {
      "text/plain": [
       "year  period \n",
       "2017  Jan-Jun    35849\n",
       "      Jul-Dec    86961\n",
       "2018  Jan-Jun    62316\n",
       "      Jul-Dec    56702\n",
       "2019  Jan-Jun    47390\n",
       "      Jul-Dec    27891\n",
       "Name: (Company B, purchases), dtype: int32"
      ]
     },
     "execution_count": 5,
     "metadata": {},
     "output_type": "execute_result"
    }
   ],
   "source": [
    "# You can also pass a tuple of multiple indices.\n",
    "a.loc[:, ('Company B', 'purchases')]"
   ]
  },
  {
   "cell_type": "markdown",
   "metadata": {},
   "source": [
    "As far as slicing is concerned, the optimal way of doing this is by means of the Pandas IndexSlice object. Have a look:"
   ]
  },
  {
   "cell_type": "code",
   "execution_count": 8,
   "metadata": {},
   "outputs": [
    {
     "data": {
      "text/html": [
       "<div>\n",
       "<style scoped>\n",
       "    .dataframe tbody tr th:only-of-type {\n",
       "        vertical-align: middle;\n",
       "    }\n",
       "\n",
       "    .dataframe tbody tr th {\n",
       "        vertical-align: top;\n",
       "    }\n",
       "\n",
       "    .dataframe thead tr th {\n",
       "        text-align: left;\n",
       "    }\n",
       "\n",
       "    .dataframe thead tr:last-of-type th {\n",
       "        text-align: right;\n",
       "    }\n",
       "</style>\n",
       "<table border=\"1\" class=\"dataframe\">\n",
       "  <thead>\n",
       "    <tr>\n",
       "      <th></th>\n",
       "      <th>company</th>\n",
       "      <th>Company A</th>\n",
       "      <th>Company B</th>\n",
       "      <th>Company C</th>\n",
       "    </tr>\n",
       "    <tr>\n",
       "      <th></th>\n",
       "      <th>total value</th>\n",
       "      <th>sales</th>\n",
       "      <th>sales</th>\n",
       "      <th>sales</th>\n",
       "    </tr>\n",
       "    <tr>\n",
       "      <th>year</th>\n",
       "      <th>period</th>\n",
       "      <th></th>\n",
       "      <th></th>\n",
       "      <th></th>\n",
       "    </tr>\n",
       "  </thead>\n",
       "  <tbody>\n",
       "    <tr>\n",
       "      <td>2017</td>\n",
       "      <td>Jan-Jun</td>\n",
       "      <td>52016</td>\n",
       "      <td>46574</td>\n",
       "      <td>37107</td>\n",
       "    </tr>\n",
       "    <tr>\n",
       "      <td>2018</td>\n",
       "      <td>Jan-Jun</td>\n",
       "      <td>94779</td>\n",
       "      <td>64409</td>\n",
       "      <td>49368</td>\n",
       "    </tr>\n",
       "    <tr>\n",
       "      <td>2019</td>\n",
       "      <td>Jan-Jun</td>\n",
       "      <td>49221</td>\n",
       "      <td>36683</td>\n",
       "      <td>83167</td>\n",
       "    </tr>\n",
       "  </tbody>\n",
       "</table>\n",
       "</div>"
      ],
      "text/plain": [
       "company      Company A Company B Company C\n",
       "total value      sales     sales     sales\n",
       "year period                               \n",
       "2017 Jan-Jun     52016     46574     37107\n",
       "2018 Jan-Jun     94779     64409     49368\n",
       "2019 Jan-Jun     49221     36683     83167"
      ]
     },
     "execution_count": 8,
     "metadata": {},
     "output_type": "execute_result"
    }
   ],
   "source": [
    "idx = pd.IndexSlice\n",
    "a.loc[idx[:, 'Jan-Jun'], idx[:, 'sales']]"
   ]
  }
 ],
 "metadata": {
  "kernelspec": {
   "display_name": "Python 3",
   "language": "python",
   "name": "python3"
  },
  "language_info": {
   "codemirror_mode": {
    "name": "ipython",
    "version": 3
   },
   "file_extension": ".py",
   "mimetype": "text/x-python",
   "name": "python",
   "nbconvert_exporter": "python",
   "pygments_lexer": "ipython3",
   "version": "3.7.4"
  }
 },
 "nbformat": 4,
 "nbformat_minor": 2
}
