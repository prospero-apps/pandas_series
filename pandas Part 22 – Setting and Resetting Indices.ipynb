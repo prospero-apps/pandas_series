{
 "cells": [
  {
   "cell_type": "markdown",
   "metadata": {},
   "source": [
    "SETTING AND RESETTING INDICES\n",
    "\n",
    "In the previous part of the Pandas series we were talking about sorting indices. Today we'll be talking about another way of rearranging multi-indexed data, index setting and resetting. Let's start with the latter. You can use the reset_index method if you want to turn index labels into columns. Let's use the example from the previous article to demonstrate this:"
   ]
  },
  {
   "cell_type": "code",
   "execution_count": 2,
   "metadata": {},
   "outputs": [
    {
     "data": {
      "text/plain": [
       "city      year\n",
       "Columbus  2019    0.109463\n",
       "          2020    0.634263\n",
       "Seattle   2019    0.079679\n",
       "          2020    0.064878\n",
       "Denver    2019    0.336507\n",
       "          2020    0.358905\n",
       "Dallas    2019    0.845219\n",
       "          2020    0.185308\n",
       "dtype: float64"
      ]
     },
     "execution_count": 2,
     "metadata": {},
     "output_type": "execute_result"
    }
   ],
   "source": [
    "import numpy as np\n",
    "import pandas as pd\n",
    "\n",
    "index = pd.MultiIndex.from_product([['Columbus', 'Seattle', 'Denver', 'Dallas'], [2019, 2020]])\n",
    "data = pd.Series(np.random.rand(8), index=index)\n",
    "data.index.names = ['city', 'year']\n",
    "data"
   ]
  },
  {
   "cell_type": "markdown",
   "metadata": {},
   "source": [
    "And now let's reset the index. This will produce a DataFrame with the index labels 'city' and 'year' turned into column names. We'll also pass the name for the data column:"
   ]
  },
  {
   "cell_type": "code",
   "execution_count": 5,
   "metadata": {},
   "outputs": [
    {
     "data": {
      "text/html": [
       "<div>\n",
       "<style scoped>\n",
       "    .dataframe tbody tr th:only-of-type {\n",
       "        vertical-align: middle;\n",
       "    }\n",
       "\n",
       "    .dataframe tbody tr th {\n",
       "        vertical-align: top;\n",
       "    }\n",
       "\n",
       "    .dataframe thead th {\n",
       "        text-align: right;\n",
       "    }\n",
       "</style>\n",
       "<table border=\"1\" class=\"dataframe\">\n",
       "  <thead>\n",
       "    <tr style=\"text-align: right;\">\n",
       "      <th></th>\n",
       "      <th>city</th>\n",
       "      <th>year</th>\n",
       "      <th>result</th>\n",
       "    </tr>\n",
       "  </thead>\n",
       "  <tbody>\n",
       "    <tr>\n",
       "      <td>0</td>\n",
       "      <td>Columbus</td>\n",
       "      <td>2019</td>\n",
       "      <td>0.109463</td>\n",
       "    </tr>\n",
       "    <tr>\n",
       "      <td>1</td>\n",
       "      <td>Columbus</td>\n",
       "      <td>2020</td>\n",
       "      <td>0.634263</td>\n",
       "    </tr>\n",
       "    <tr>\n",
       "      <td>2</td>\n",
       "      <td>Seattle</td>\n",
       "      <td>2019</td>\n",
       "      <td>0.079679</td>\n",
       "    </tr>\n",
       "    <tr>\n",
       "      <td>3</td>\n",
       "      <td>Seattle</td>\n",
       "      <td>2020</td>\n",
       "      <td>0.064878</td>\n",
       "    </tr>\n",
       "    <tr>\n",
       "      <td>4</td>\n",
       "      <td>Denver</td>\n",
       "      <td>2019</td>\n",
       "      <td>0.336507</td>\n",
       "    </tr>\n",
       "    <tr>\n",
       "      <td>5</td>\n",
       "      <td>Denver</td>\n",
       "      <td>2020</td>\n",
       "      <td>0.358905</td>\n",
       "    </tr>\n",
       "    <tr>\n",
       "      <td>6</td>\n",
       "      <td>Dallas</td>\n",
       "      <td>2019</td>\n",
       "      <td>0.845219</td>\n",
       "    </tr>\n",
       "    <tr>\n",
       "      <td>7</td>\n",
       "      <td>Dallas</td>\n",
       "      <td>2020</td>\n",
       "      <td>0.185308</td>\n",
       "    </tr>\n",
       "  </tbody>\n",
       "</table>\n",
       "</div>"
      ],
      "text/plain": [
       "       city  year    result\n",
       "0  Columbus  2019  0.109463\n",
       "1  Columbus  2020  0.634263\n",
       "2   Seattle  2019  0.079679\n",
       "3   Seattle  2020  0.064878\n",
       "4    Denver  2019  0.336507\n",
       "5    Denver  2020  0.358905\n",
       "6    Dallas  2019  0.845219\n",
       "7    Dallas  2020  0.185308"
      ]
     },
     "execution_count": 5,
     "metadata": {},
     "output_type": "execute_result"
    }
   ],
   "source": [
    "data_reset = data.reset_index(name='result')\n",
    "data_reset"
   ]
  },
  {
   "cell_type": "markdown",
   "metadata": {},
   "source": [
    "This was resetting the index. You can also do the opposite. By setting the index you will turn a DataFrame into a multiply indexed DataFrame:"
   ]
  },
  {
   "cell_type": "code",
   "execution_count": 6,
   "metadata": {},
   "outputs": [
    {
     "data": {
      "text/html": [
       "<div>\n",
       "<style scoped>\n",
       "    .dataframe tbody tr th:only-of-type {\n",
       "        vertical-align: middle;\n",
       "    }\n",
       "\n",
       "    .dataframe tbody tr th {\n",
       "        vertical-align: top;\n",
       "    }\n",
       "\n",
       "    .dataframe thead th {\n",
       "        text-align: right;\n",
       "    }\n",
       "</style>\n",
       "<table border=\"1\" class=\"dataframe\">\n",
       "  <thead>\n",
       "    <tr style=\"text-align: right;\">\n",
       "      <th></th>\n",
       "      <th></th>\n",
       "      <th>result</th>\n",
       "    </tr>\n",
       "    <tr>\n",
       "      <th>city</th>\n",
       "      <th>year</th>\n",
       "      <th></th>\n",
       "    </tr>\n",
       "  </thead>\n",
       "  <tbody>\n",
       "    <tr>\n",
       "      <td rowspan=\"2\" valign=\"top\">Columbus</td>\n",
       "      <td>2019</td>\n",
       "      <td>0.109463</td>\n",
       "    </tr>\n",
       "    <tr>\n",
       "      <td>2020</td>\n",
       "      <td>0.634263</td>\n",
       "    </tr>\n",
       "    <tr>\n",
       "      <td rowspan=\"2\" valign=\"top\">Seattle</td>\n",
       "      <td>2019</td>\n",
       "      <td>0.079679</td>\n",
       "    </tr>\n",
       "    <tr>\n",
       "      <td>2020</td>\n",
       "      <td>0.064878</td>\n",
       "    </tr>\n",
       "    <tr>\n",
       "      <td rowspan=\"2\" valign=\"top\">Denver</td>\n",
       "      <td>2019</td>\n",
       "      <td>0.336507</td>\n",
       "    </tr>\n",
       "    <tr>\n",
       "      <td>2020</td>\n",
       "      <td>0.358905</td>\n",
       "    </tr>\n",
       "    <tr>\n",
       "      <td rowspan=\"2\" valign=\"top\">Dallas</td>\n",
       "      <td>2019</td>\n",
       "      <td>0.845219</td>\n",
       "    </tr>\n",
       "    <tr>\n",
       "      <td>2020</td>\n",
       "      <td>0.185308</td>\n",
       "    </tr>\n",
       "  </tbody>\n",
       "</table>\n",
       "</div>"
      ],
      "text/plain": [
       "                 result\n",
       "city     year          \n",
       "Columbus 2019  0.109463\n",
       "         2020  0.634263\n",
       "Seattle  2019  0.079679\n",
       "         2020  0.064878\n",
       "Denver   2019  0.336507\n",
       "         2020  0.358905\n",
       "Dallas   2019  0.845219\n",
       "         2020  0.185308"
      ]
     },
     "execution_count": 6,
     "metadata": {},
     "output_type": "execute_result"
    }
   ],
   "source": [
    "data_reset.set_index(['city', 'year'])"
   ]
  }
 ],
 "metadata": {
  "kernelspec": {
   "display_name": "Python 3",
   "language": "python",
   "name": "python3"
  },
  "language_info": {
   "codemirror_mode": {
    "name": "ipython",
    "version": 3
   },
   "file_extension": ".py",
   "mimetype": "text/x-python",
   "name": "python",
   "nbconvert_exporter": "python",
   "pygments_lexer": "ipython3",
   "version": "3.7.4"
  }
 },
 "nbformat": 4,
 "nbformat_minor": 2
}
