{
 "cells": [
  {
   "cell_type": "markdown",
   "metadata": {},
   "source": [
    "INDEXING AND SLICING MULTIPLY INDEXED SERIES\n",
    "\n",
    "Indexing and slicing multiply indexed Series is intuitive. Let's use one of the examples we saw before:"
   ]
  },
  {
   "cell_type": "code",
   "execution_count": 1,
   "metadata": {},
   "outputs": [
    {
     "data": {
      "text/plain": [
       "species      region       \n",
       "wild horses  Europe           1200000\n",
       "             Asia             2500000\n",
       "             North America     850000\n",
       "boars        Europe           4900000\n",
       "             Asia             5400000\n",
       "             North America    3600000\n",
       "wolves       Europe           2100000\n",
       "             Asia             1900000\n",
       "             North America     940000\n",
       "dtype: int32"
      ]
     },
     "execution_count": 1,
     "metadata": {},
     "output_type": "execute_result"
    }
   ],
   "source": [
    "import numpy as np\n",
    "import pandas as pd\n",
    "\n",
    "p = pd.MultiIndex.from_product([['wild horses', 'boars', 'wolves'], ['Europe', 'Asia', 'North America']], \n",
    "                               names=['species', 'region'])\n",
    "\n",
    "populations = np.array([1200, 2500, 850,\n",
    "                        4900, 5400, 3600,\n",
    "                        2100, 1900, 940])\n",
    "\n",
    "populations *= 1000\n",
    "\n",
    "populations_by_region = pd.Series(populations, index=p)\n",
    "populations_by_region"
   ]
  },
  {
   "cell_type": "markdown",
   "metadata": {},
   "source": [
    "Here we have something we can demonstrate indexing and slicing on. And now let's have a look at some examples:"
   ]
  },
  {
   "cell_type": "code",
   "execution_count": 2,
   "metadata": {},
   "outputs": [
    {
     "data": {
      "text/plain": [
       "5400000"
      ]
     },
     "execution_count": 2,
     "metadata": {},
     "output_type": "execute_result"
    }
   ],
   "source": [
    "# To access a single element we use multiple indices.\n",
    "populations_by_region['boars', 'Asia']"
   ]
  },
  {
   "cell_type": "code",
   "execution_count": 3,
   "metadata": {},
   "outputs": [
    {
     "data": {
      "text/plain": [
       "region\n",
       "Europe           4900000\n",
       "Asia             5400000\n",
       "North America    3600000\n",
       "dtype: int32"
      ]
     },
     "execution_count": 3,
     "metadata": {},
     "output_type": "execute_result"
    }
   ],
   "source": [
    "# If you use just one indexing level, you will get a partial Series.\n",
    "populations_by_region['boars']"
   ]
  },
  {
   "cell_type": "markdown",
   "metadata": {},
   "source": [
    "For slicing to work, the indices must be sorted. Otherwise we'll get an error.\n",
    "\n",
    "We can sort them using the sort_index method that we will discuss in one of the following parts of the pandas series. So, let's sort the indices and assign the result back to the original Series object:"
   ]
  },
  {
   "cell_type": "code",
   "execution_count": 7,
   "metadata": {},
   "outputs": [
    {
     "data": {
      "text/plain": [
       "species      region       \n",
       "boars        Asia             5400000\n",
       "             Europe           4900000\n",
       "             North America    3600000\n",
       "wild horses  Asia             2500000\n",
       "             Europe           1200000\n",
       "             North America     850000\n",
       "wolves       Asia             1900000\n",
       "             Europe           2100000\n",
       "             North America     940000\n",
       "dtype: int32"
      ]
     },
     "execution_count": 7,
     "metadata": {},
     "output_type": "execute_result"
    }
   ],
   "source": [
    "populations_by_region = populations_by_region.sort_index()\n",
    "populations_by_region"
   ]
  },
  {
   "cell_type": "code",
   "execution_count": 8,
   "metadata": {},
   "outputs": [
    {
     "data": {
      "text/plain": [
       "species      region       \n",
       "wild horses  Asia             2500000\n",
       "             Europe           1200000\n",
       "             North America     850000\n",
       "wolves       Asia             1900000\n",
       "             Europe           2100000\n",
       "             North America     940000\n",
       "dtype: int32"
      ]
     },
     "execution_count": 8,
     "metadata": {},
     "output_type": "execute_result"
    }
   ],
   "source": [
    "# Now we can slice the Series object.\n",
    "populations_by_region['wild horses':'wolves']"
   ]
  },
  {
   "cell_type": "code",
   "execution_count": 9,
   "metadata": {},
   "outputs": [
    {
     "data": {
      "text/plain": [
       "species\n",
       "boars          4900000\n",
       "wild horses    1200000\n",
       "wolves         2100000\n",
       "dtype: int32"
      ]
     },
     "execution_count": 9,
     "metadata": {},
     "output_type": "execute_result"
    }
   ],
   "source": [
    "# You can also use partial indexing on lower levels. Then we pass an empty slice for the higher level.\n",
    "populations_by_region[:, 'Europe']"
   ]
  },
  {
   "cell_type": "code",
   "execution_count": 11,
   "metadata": {},
   "outputs": [
    {
     "data": {
      "text/plain": [
       "species      region       \n",
       "wild horses  Europe           1200000\n",
       "             North America     850000\n",
       "wolves       Asia             1900000\n",
       "             North America     940000\n",
       "dtype: int32"
      ]
     },
     "execution_count": 11,
     "metadata": {},
     "output_type": "execute_result"
    }
   ],
   "source": [
    "# Boolean masks also work.\n",
    "populations_by_region[populations_by_region < 2000000]"
   ]
  },
  {
   "cell_type": "code",
   "execution_count": 15,
   "metadata": {},
   "outputs": [
    {
     "data": {
      "text/plain": [
       "species  region       \n",
       "boars    Asia             5400000\n",
       "         Europe           4900000\n",
       "         North America    3600000\n",
       "wolves   Asia             1900000\n",
       "         Europe           2100000\n",
       "         North America     940000\n",
       "dtype: int32"
      ]
     },
     "execution_count": 15,
     "metadata": {},
     "output_type": "execute_result"
    }
   ],
   "source": [
    "# Finally, there's fancy indexing.\n",
    "populations_by_region[['boars', 'wolves']]"
   ]
  }
 ],
 "metadata": {
  "kernelspec": {
   "display_name": "Python 3",
   "language": "python",
   "name": "python3"
  },
  "language_info": {
   "codemirror_mode": {
    "name": "ipython",
    "version": 3
   },
   "file_extension": ".py",
   "mimetype": "text/x-python",
   "name": "python",
   "nbconvert_exporter": "python",
   "pygments_lexer": "ipython3",
   "version": "3.7.4"
  }
 },
 "nbformat": 4,
 "nbformat_minor": 2
}
