{
 "cells": [
  {
   "cell_type": "markdown",
   "metadata": {},
   "source": [
    "NAMED MULTIINDEX LEVELS\n",
    "\n",
    "Sometimes it's useful to name the levels of an MultiIndex object. Let's have a look at the example from the previous part of the series:"
   ]
  },
  {
   "cell_type": "code",
   "execution_count": 1,
   "metadata": {},
   "outputs": [
    {
     "data": {
      "text/plain": [
       "Asia       2019    100\n",
       "           2020    200\n",
       "Australia  2019    150\n",
       "           2020    250\n",
       "dtype: int64"
      ]
     },
     "execution_count": 1,
     "metadata": {},
     "output_type": "execute_result"
    }
   ],
   "source": [
    "import numpy as np\n",
    "import pandas as pd\n",
    "\n",
    "# the MultiIndex\n",
    "a = pd.MultiIndex.from_tuples([('Asia', 2019), ('Asia', 2020), ('Australia', 2019), ('Australia', 2020)])\n",
    "\n",
    "# the data\n",
    "data = [100, 200,\n",
    "        150, 250]\n",
    "\n",
    "# the Series object \n",
    "s = pd.Series(data, index=a)\n",
    "s"
   ]
  },
  {
   "cell_type": "markdown",
   "metadata": {},
   "source": [
    "Although in this example it's pretty obvious what the two levels are, it's not always the case. As this Series object already exists, we can use the names attribute to set the names of the levels:"
   ]
  },
  {
   "cell_type": "code",
   "execution_count": 2,
   "metadata": {},
   "outputs": [
    {
     "data": {
      "text/plain": [
       "continent  year\n",
       "Asia       2019    100\n",
       "           2020    200\n",
       "Australia  2019    150\n",
       "           2020    250\n",
       "dtype: int64"
      ]
     },
     "execution_count": 2,
     "metadata": {},
     "output_type": "execute_result"
    }
   ],
   "source": [
    "s.index.names = ['continent', 'year']\n",
    "s"
   ]
  },
  {
   "cell_type": "markdown",
   "metadata": {},
   "source": [
    "Now it's even more obvious. You can also name the levels when you create a MultiIndex object. You just have to pass the names argument to the constructor. Let's create a new MultiIndex to demonstrate this:"
   ]
  },
  {
   "cell_type": "code",
   "execution_count": 3,
   "metadata": {},
   "outputs": [
    {
     "data": {
      "text/plain": [
       "MultiIndex([('wild horses',        'Europe'),\n",
       "            ('wild horses',          'Asia'),\n",
       "            ('wild horses', 'North America'),\n",
       "            (      'boars',        'Europe'),\n",
       "            (      'boars',          'Asia'),\n",
       "            (      'boars', 'North America'),\n",
       "            (     'wolves',        'Europe'),\n",
       "            (     'wolves',          'Asia'),\n",
       "            (     'wolves', 'North America')],\n",
       "           names=['species', 'region'])"
      ]
     },
     "execution_count": 3,
     "metadata": {},
     "output_type": "execute_result"
    }
   ],
   "source": [
    "# We can use any method. In this example we'll use the from_product method.\n",
    "p = pd.MultiIndex.from_product([['wild horses', 'boars', 'wolves'], ['Europe', 'Asia', 'North America']], \n",
    "                               names=['species', 'region'])\n",
    "p"
   ]
  },
  {
   "cell_type": "code",
   "execution_count": 9,
   "metadata": {},
   "outputs": [
    {
     "data": {
      "text/plain": [
       "species      region       \n",
       "wild horses  Europe           1200000\n",
       "             Asia             2500000\n",
       "             North America     850000\n",
       "boars        Europe           4900000\n",
       "             Asia             5400000\n",
       "             North America    3600000\n",
       "wolves       Europe           2100000\n",
       "             Asia             1900000\n",
       "             North America     940000\n",
       "dtype: int32"
      ]
     },
     "execution_count": 9,
     "metadata": {},
     "output_type": "execute_result"
    }
   ],
   "source": [
    "# Now let's use the index to create a multi-indexed Series object.\n",
    "populations = np.array([1200, 2500, 850,\n",
    "                        4900, 5400, 3600,\n",
    "                        2100, 1900, 940])\n",
    "\n",
    "# The populations above are given in thousands of individuals, so let's multiply\n",
    "# each value by 1000 so that the actual data is displayed.\n",
    "populations *= 1000\n",
    "\n",
    "# Here's the Series object.\n",
    "populations_by_region = pd.Series(populations, index=p)\n",
    "populations_by_region"
   ]
  },
  {
   "cell_type": "markdown",
   "metadata": {},
   "source": [
    "That's it. As you can see, named levels make it easier for us to know what data is represented by each of them. In the next part of the series we'll be talking about multi-indexed DataFrame columns."
   ]
  }
 ],
 "metadata": {
  "kernelspec": {
   "display_name": "Python 3",
   "language": "python",
   "name": "python3"
  },
  "language_info": {
   "codemirror_mode": {
    "name": "ipython",
    "version": 3
   },
   "file_extension": ".py",
   "mimetype": "text/x-python",
   "name": "python",
   "nbconvert_exporter": "python",
   "pygments_lexer": "ipython3",
   "version": "3.7.4"
  }
 },
 "nbformat": 4,
 "nbformat_minor": 2
}
