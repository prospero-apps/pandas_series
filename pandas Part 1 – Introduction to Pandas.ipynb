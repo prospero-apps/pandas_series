{
 "cells": [
  {
   "cell_type": "markdown",
   "metadata": {},
   "source": [
    "pandas is a Python module that builds on top of numpy and is used to deal with data in a comfortable way. Many of its features and operations should quickly become familiar to you if you use some database programs or spreadsheets. With pandas you can manipulate structured data, which can be easily labeled. \n",
    "\n",
    "The first thing you need to do is to install pandas. If you have the Anaconda distribution of Python, you already have pandas. Otherwise, you have to install it.\n",
    "\n",
    "When you install pandas, numpy must also be installed on your computer. You can find detailed instructions on this website: https://pandas.pydata.org/getting_started.html. I'm not going to repeat them here, because you can always find the up-to-date information on the official pandas website.\n",
    "\n",
    "With pandas installed, you can check the version of the package. Make sure to import it first. Just like with numpy, we usually use an alias for pandas:"
   ]
  },
  {
   "cell_type": "code",
   "execution_count": 1,
   "metadata": {},
   "outputs": [
    {
     "data": {
      "text/plain": [
       "'0.25.1'"
      ]
     },
     "execution_count": 1,
     "metadata": {},
     "output_type": "execute_result"
    }
   ],
   "source": [
    "import pandas as pd\n",
    "pd.__version__"
   ]
  },
  {
   "cell_type": "markdown",
   "metadata": {},
   "source": [
    "Before we dive into the pandas module, just a quick reminder. If you are using Jupyter Notebook to type your code, you can leverage the built-in documentation. \n",
    "\n",
    "You can use the tab-completion feature to scan the whole namespace. To do that just type:\n",
    "\n",
    "pd.\n",
    "\n",
    "and then hit TAB. This will display everything that is available in the namespace.\n",
    "\n",
    "\n",
    "You can also get detailed help on any class or method included in the module by typing the question mark symbol and running the code. For example if you want to read the documentation on the pandas Series class, all you have to do is type:\n",
    "\n",
    "pd.Series?\n",
    "\n",
    "and run the code. By the way, to run the code, simply hit Ctrl+Enter.\n",
    "\n",
    "In the next part of this pandas series we'll have a look at the Series class I just mentioned. It's one of the three fundamental pandas data structures. The other two are DataFrame and Index. They will be discussed in the following parts.\n",
    "\n"
   ]
  }
 ],
 "metadata": {
  "kernelspec": {
   "display_name": "Python 3",
   "language": "python",
   "name": "python3"
  },
  "language_info": {
   "codemirror_mode": {
    "name": "ipython",
    "version": 3
   },
   "file_extension": ".py",
   "mimetype": "text/x-python",
   "name": "python",
   "nbconvert_exporter": "python",
   "pygments_lexer": "ipython3",
   "version": "3.7.4"
  }
 },
 "nbformat": 4,
 "nbformat_minor": 2
}
