{
 "cells": [
  {
   "cell_type": "markdown",
   "metadata": {},
   "source": [
    "STACKING AND UNSTACKING MULTIINDICES\n",
    "\n",
    "In this articl we'll be working on our example from the previous part. Our subject today is stacking and unstacking multi-indices. So, without further ado, let's import pandas and numpy and let's recreate our previous example:"
   ]
  },
  {
   "cell_type": "code",
   "execution_count": 1,
   "metadata": {},
   "outputs": [
    {
     "data": {
      "text/plain": [
       "Company A  2018    125\n",
       "           2019    211\n",
       "Company B  2018    390\n",
       "           2019    455\n",
       "Company C  2018    475\n",
       "           2019    655\n",
       "dtype: int64"
      ]
     },
     "execution_count": 1,
     "metadata": {},
     "output_type": "execute_result"
    }
   ],
   "source": [
    "import numpy as np\n",
    "import pandas as pd\n",
    "\n",
    "# the tuples used as indices\n",
    "index = [('Company A', 2018), ('Company A', 2019),\n",
    "        ('Company B', 2018), ('Company B', 2019),\n",
    "        ('Company C', 2018), ('Company C', 2019)]\n",
    "\n",
    "# the list of sales\n",
    "sales = [125, 211,\n",
    "        390, 455,\n",
    "        475, 655]\n",
    "\n",
    "# Let's create a Series object.\n",
    "s = pd.Series(sales, index=index)\n",
    "\n",
    "# Here's the multi-index.\n",
    "m_index = pd.MultiIndex.from_tuples(index)\n",
    "\n",
    "# Let's reindex the Series object.\n",
    "s = s.reindex(m_index)\n",
    "\n",
    "s"
   ]
  },
  {
   "cell_type": "markdown",
   "metadata": {},
   "source": [
    "As you prpbably noticed, the multi-indexed Series looks very much like a DataFrame. Actually, it can be easily converted to a DataFrame by means of the unstack method. There's also the stack method, which does the contrary, so converts a DataFrame to a multi-indexed Series. Have a look:"
   ]
  },
  {
   "cell_type": "code",
   "execution_count": 2,
   "metadata": {},
   "outputs": [
    {
     "data": {
      "text/html": [
       "<div>\n",
       "<style scoped>\n",
       "    .dataframe tbody tr th:only-of-type {\n",
       "        vertical-align: middle;\n",
       "    }\n",
       "\n",
       "    .dataframe tbody tr th {\n",
       "        vertical-align: top;\n",
       "    }\n",
       "\n",
       "    .dataframe thead th {\n",
       "        text-align: right;\n",
       "    }\n",
       "</style>\n",
       "<table border=\"1\" class=\"dataframe\">\n",
       "  <thead>\n",
       "    <tr style=\"text-align: right;\">\n",
       "      <th></th>\n",
       "      <th>2018</th>\n",
       "      <th>2019</th>\n",
       "    </tr>\n",
       "  </thead>\n",
       "  <tbody>\n",
       "    <tr>\n",
       "      <td>Company A</td>\n",
       "      <td>125</td>\n",
       "      <td>211</td>\n",
       "    </tr>\n",
       "    <tr>\n",
       "      <td>Company B</td>\n",
       "      <td>390</td>\n",
       "      <td>455</td>\n",
       "    </tr>\n",
       "    <tr>\n",
       "      <td>Company C</td>\n",
       "      <td>475</td>\n",
       "      <td>655</td>\n",
       "    </tr>\n",
       "  </tbody>\n",
       "</table>\n",
       "</div>"
      ],
      "text/plain": [
       "           2018  2019\n",
       "Company A   125   211\n",
       "Company B   390   455\n",
       "Company C   475   655"
      ]
     },
     "execution_count": 2,
     "metadata": {},
     "output_type": "execute_result"
    }
   ],
   "source": [
    "# convert to DataFrame\n",
    "s_df = s.unstack()\n",
    "s_df"
   ]
  },
  {
   "cell_type": "code",
   "execution_count": 3,
   "metadata": {},
   "outputs": [
    {
     "data": {
      "text/plain": [
       "Company A  2018    125\n",
       "           2019    211\n",
       "Company B  2018    390\n",
       "           2019    455\n",
       "Company C  2018    475\n",
       "           2019    655\n",
       "dtype: int64"
      ]
     },
     "execution_count": 3,
     "metadata": {},
     "output_type": "execute_result"
    }
   ],
   "source": [
    "# convert back to multi-indexed Series\n",
    "s = s_df.stack()\n",
    "s"
   ]
  }
 ],
 "metadata": {
  "kernelspec": {
   "display_name": "Python 3",
   "language": "python",
   "name": "python3"
  },
  "language_info": {
   "codemirror_mode": {
    "name": "ipython",
    "version": 3
   },
   "file_extension": ".py",
   "mimetype": "text/x-python",
   "name": "python",
   "nbconvert_exporter": "python",
   "pygments_lexer": "ipython3",
   "version": "3.7.4"
  }
 },
 "nbformat": 4,
 "nbformat_minor": 2
}
