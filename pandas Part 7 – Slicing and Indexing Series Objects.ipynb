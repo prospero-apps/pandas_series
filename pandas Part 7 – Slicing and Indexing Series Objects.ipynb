{
 "cells": [
  {
   "cell_type": "markdown",
   "metadata": {},
   "source": [
    "When we were talking about Series objects we saw that slicing Series objects may be pretty straightforward. Let's have a look at the same example that we used before:"
   ]
  },
  {
   "cell_type": "code",
   "execution_count": 1,
   "metadata": {},
   "outputs": [
    {
     "data": {
      "text/plain": [
       "C    0.87\n",
       "D    2.76\n",
       "E    3.12\n",
       "F    5.79\n",
       "dtype: float64"
      ]
     },
     "execution_count": 1,
     "metadata": {},
     "output_type": "execute_result"
    }
   ],
   "source": [
    "import numpy as np\n",
    "import pandas as pd\n",
    "\n",
    "nums = pd.Series([2.35, 4.11, 0.87, 2.76, 3.12, 5.79],\n",
    "                index = ['A', 'B', 'C', 'D', 'E', 'F'])\n",
    "\n",
    "# slice from element at index 'C' to the end\n",
    "nums['C':]"
   ]
  },
  {
   "cell_type": "markdown",
   "metadata": {},
   "source": [
    "And now let's make another slice, from the element with the index 'B' to the element with the index 'E':"
   ]
  },
  {
   "cell_type": "code",
   "execution_count": 2,
   "metadata": {},
   "outputs": [
    {
     "data": {
      "text/plain": [
       "B    4.11\n",
       "C    0.87\n",
       "D    2.76\n",
       "E    3.12\n",
       "dtype: float64"
      ]
     },
     "execution_count": 2,
     "metadata": {},
     "output_type": "execute_result"
    }
   ],
   "source": [
    "nums['B':'E']"
   ]
  },
  {
   "cell_type": "markdown",
   "metadata": {},
   "source": [
    "You probably noticed that the second index in the square brackets is not exclusive, as you might have expected. This is how slicing works if we use the explicit label indices like above. But we can always use the implicit positional integer index (the one that a regular Python list uses for example) as well. In our case the positional index that corresponds to the label index 'B' is 1 (positional indices are 0-based) and the one that corresponds to 'E' is 4, so:"
   ]
  },
  {
   "cell_type": "code",
   "execution_count": 3,
   "metadata": {},
   "outputs": [
    {
     "data": {
      "text/plain": [
       "B    4.11\n",
       "C    0.87\n",
       "D    2.76\n",
       "dtype: float64"
      ]
     },
     "execution_count": 3,
     "metadata": {},
     "output_type": "execute_result"
    }
   ],
   "source": [
    "nums[1:4]"
   ]
  },
  {
   "cell_type": "markdown",
   "metadata": {},
   "source": [
    "This time the second index is exclusive. So, you must be careful about which index you use: the label based one or the positional integer one. This may be problematic if the label indices are integers as well, but we're going to have a look at such a case in the next part of this series. \n",
    "\n",
    "Now, let's quickly see at how we can index Series objects. Well, actually we can use the same indexing methods as with numpy arrays, which include the regular straightforward indexing, masking and fancy indexing. If you want to learn more about masking and fancy indexing, you can read my articles in the numpy series.\n",
    "\n",
    "Let's have a look:"
   ]
  },
  {
   "cell_type": "code",
   "execution_count": 4,
   "metadata": {},
   "outputs": [
    {
     "data": {
      "text/plain": [
       "2.76"
      ]
     },
     "execution_count": 4,
     "metadata": {},
     "output_type": "execute_result"
    }
   ],
   "source": [
    "# regular indexing\n",
    "nums['D']"
   ]
  },
  {
   "cell_type": "code",
   "execution_count": 6,
   "metadata": {},
   "outputs": [
    {
     "data": {
      "text/plain": [
       "B    4.11\n",
       "D    2.76\n",
       "E    3.12\n",
       "dtype: float64"
      ]
     },
     "execution_count": 6,
     "metadata": {},
     "output_type": "execute_result"
    }
   ],
   "source": [
    "# masking\n",
    "nums[(nums > 2.5) & (nums < 4.5)]"
   ]
  },
  {
   "cell_type": "code",
   "execution_count": 7,
   "metadata": {},
   "outputs": [
    {
     "data": {
      "text/plain": [
       "F    5.79\n",
       "A    2.35\n",
       "B    4.11\n",
       "dtype: float64"
      ]
     },
     "execution_count": 7,
     "metadata": {},
     "output_type": "execute_result"
    }
   ],
   "source": [
    "# fancy indexing\n",
    "nums[['F', 'A', 'B']]"
   ]
  }
 ],
 "metadata": {
  "kernelspec": {
   "display_name": "Python 3",
   "language": "python",
   "name": "python3"
  },
  "language_info": {
   "codemirror_mode": {
    "name": "ipython",
    "version": 3
   },
   "file_extension": ".py",
   "mimetype": "text/x-python",
   "name": "python",
   "nbconvert_exporter": "python",
   "pygments_lexer": "ipython3",
   "version": "3.7.4"
  }
 },
 "nbformat": 4,
 "nbformat_minor": 2
}
