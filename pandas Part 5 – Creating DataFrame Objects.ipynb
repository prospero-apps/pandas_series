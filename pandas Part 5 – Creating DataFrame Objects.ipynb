{
 "cells": [
  {
   "cell_type": "markdown",
   "metadata": {},
   "source": [
    "In the previous part of this series we created a DataFrame from a dictionary of Series objects. Let's quickly recreate the DataFrame here:"
   ]
  },
  {
   "cell_type": "code",
   "execution_count": 1,
   "metadata": {},
   "outputs": [
    {
     "data": {
      "text/html": [
       "<div>\n",
       "<style scoped>\n",
       "    .dataframe tbody tr th:only-of-type {\n",
       "        vertical-align: middle;\n",
       "    }\n",
       "\n",
       "    .dataframe tbody tr th {\n",
       "        vertical-align: top;\n",
       "    }\n",
       "\n",
       "    .dataframe thead th {\n",
       "        text-align: right;\n",
       "    }\n",
       "</style>\n",
       "<table border=\"1\" class=\"dataframe\">\n",
       "  <thead>\n",
       "    <tr style=\"text-align: right;\">\n",
       "      <th></th>\n",
       "      <th>atomic number</th>\n",
       "      <th>atomic mass</th>\n",
       "    </tr>\n",
       "  </thead>\n",
       "  <tbody>\n",
       "    <tr>\n",
       "      <td>helium</td>\n",
       "      <td>2</td>\n",
       "      <td>4.003</td>\n",
       "    </tr>\n",
       "    <tr>\n",
       "      <td>oxygen</td>\n",
       "      <td>8</td>\n",
       "      <td>15.999</td>\n",
       "    </tr>\n",
       "    <tr>\n",
       "      <td>sodium</td>\n",
       "      <td>11</td>\n",
       "      <td>22.990</td>\n",
       "    </tr>\n",
       "    <tr>\n",
       "      <td>carbon</td>\n",
       "      <td>6</td>\n",
       "      <td>12.011</td>\n",
       "    </tr>\n",
       "    <tr>\n",
       "      <td>sulfur</td>\n",
       "      <td>16</td>\n",
       "      <td>32.066</td>\n",
       "    </tr>\n",
       "  </tbody>\n",
       "</table>\n",
       "</div>"
      ],
      "text/plain": [
       "        atomic number  atomic mass\n",
       "helium              2        4.003\n",
       "oxygen              8       15.999\n",
       "sodium             11       22.990\n",
       "carbon              6       12.011\n",
       "sulfur             16       32.066"
      ]
     },
     "execution_count": 1,
     "metadata": {},
     "output_type": "execute_result"
    }
   ],
   "source": [
    "import numpy as np\n",
    "import pandas as pd\n",
    "\n",
    "atomic_numbers = pd.Series({'helium': 2, 'oxygen': 8, 'sodium': 11, 'carbon': 6, 'sulfur': 16})\n",
    "atomic_numbers\n",
    "\n",
    "atomic_masses = pd.Series({'helium': 4.003, 'oxygen': 15.999, 'sodium': 22.990, 'carbon': 12.011, 'sulfur': 32.066})\n",
    "atomic_masses\n",
    "\n",
    "elements = pd.DataFrame({'atomic number': atomic_numbers,\n",
    "                        'atomic mass': atomic_masses})\n",
    "elements"
   ]
  },
  {
   "cell_type": "markdown",
   "metadata": {},
   "source": [
    "This is how we can create DataFrame objects, but it's not the only way to do it. Let's have a look at some other options."
   ]
  },
  {
   "cell_type": "markdown",
   "metadata": {},
   "source": [
    "DataFrame from a Single Series Object\n",
    "\n",
    "Let's start with something simple. If our DataFrame needs only one column, we can create it from just one single Series object:"
   ]
  },
  {
   "cell_type": "code",
   "execution_count": 4,
   "metadata": {},
   "outputs": [
    {
     "data": {
      "text/html": [
       "<div>\n",
       "<style scoped>\n",
       "    .dataframe tbody tr th:only-of-type {\n",
       "        vertical-align: middle;\n",
       "    }\n",
       "\n",
       "    .dataframe tbody tr th {\n",
       "        vertical-align: top;\n",
       "    }\n",
       "\n",
       "    .dataframe thead th {\n",
       "        text-align: right;\n",
       "    }\n",
       "</style>\n",
       "<table border=\"1\" class=\"dataframe\">\n",
       "  <thead>\n",
       "    <tr style=\"text-align: right;\">\n",
       "      <th></th>\n",
       "      <th>atomic mass</th>\n",
       "    </tr>\n",
       "  </thead>\n",
       "  <tbody>\n",
       "    <tr>\n",
       "      <td>helium</td>\n",
       "      <td>4.003</td>\n",
       "    </tr>\n",
       "    <tr>\n",
       "      <td>oxygen</td>\n",
       "      <td>15.999</td>\n",
       "    </tr>\n",
       "    <tr>\n",
       "      <td>sodium</td>\n",
       "      <td>22.990</td>\n",
       "    </tr>\n",
       "    <tr>\n",
       "      <td>carbon</td>\n",
       "      <td>12.011</td>\n",
       "    </tr>\n",
       "    <tr>\n",
       "      <td>sulfur</td>\n",
       "      <td>32.066</td>\n",
       "    </tr>\n",
       "  </tbody>\n",
       "</table>\n",
       "</div>"
      ],
      "text/plain": [
       "        atomic mass\n",
       "helium        4.003\n",
       "oxygen       15.999\n",
       "sodium       22.990\n",
       "carbon       12.011\n",
       "sulfur       32.066"
      ]
     },
     "execution_count": 4,
     "metadata": {},
     "output_type": "execute_result"
    }
   ],
   "source": [
    "pd.DataFrame(atomic_masses, columns = ['atomic mass'])"
   ]
  },
  {
   "cell_type": "markdown",
   "metadata": {},
   "source": [
    "DataFrame from a List of Dictionaries\n",
    "\n",
    "You can also create a DataFrame from a list of dictionaries. Then the keys will become the column names. "
   ]
  },
  {
   "cell_type": "code",
   "execution_count": 9,
   "metadata": {},
   "outputs": [
    {
     "data": {
      "text/html": [
       "<div>\n",
       "<style scoped>\n",
       "    .dataframe tbody tr th:only-of-type {\n",
       "        vertical-align: middle;\n",
       "    }\n",
       "\n",
       "    .dataframe tbody tr th {\n",
       "        vertical-align: top;\n",
       "    }\n",
       "\n",
       "    .dataframe thead th {\n",
       "        text-align: right;\n",
       "    }\n",
       "</style>\n",
       "<table border=\"1\" class=\"dataframe\">\n",
       "  <thead>\n",
       "    <tr style=\"text-align: right;\">\n",
       "      <th></th>\n",
       "      <th>Monica</th>\n",
       "      <th>Jake</th>\n",
       "      <th>Sarah</th>\n",
       "    </tr>\n",
       "  </thead>\n",
       "  <tbody>\n",
       "    <tr>\n",
       "      <td>0</td>\n",
       "      <td>44</td>\n",
       "      <td>39</td>\n",
       "      <td>37</td>\n",
       "    </tr>\n",
       "    <tr>\n",
       "      <td>1</td>\n",
       "      <td>41200</td>\n",
       "      <td>32400</td>\n",
       "      <td>61400</td>\n",
       "    </tr>\n",
       "  </tbody>\n",
       "</table>\n",
       "</div>"
      ],
      "text/plain": [
       "   Monica   Jake  Sarah\n",
       "0      44     39     37\n",
       "1   41200  32400  61400"
      ]
     },
     "execution_count": 9,
     "metadata": {},
     "output_type": "execute_result"
    }
   ],
   "source": [
    "# dictionary 1:\n",
    "age_dict = {'Monica': 44, 'Jake': 39, 'Sarah': 37}\n",
    "\n",
    "# dictionary 2:\n",
    "salary_dict = {'Monica': 41200, 'Jake': 32400, 'Sarah': 61400}\n",
    "\n",
    "# list of dictionaries\n",
    "staff_lst = [age_dict, salary_dict]\n",
    "\n",
    "# DataFrame\n",
    "staff = pd.DataFrame(staff_lst)\n",
    "\n",
    "staff"
   ]
  },
  {
   "cell_type": "markdown",
   "metadata": {},
   "source": [
    "If the default integer 0-based indices don't tell you much, you can explicitly pass your own ones:"
   ]
  },
  {
   "cell_type": "code",
   "execution_count": 10,
   "metadata": {},
   "outputs": [
    {
     "data": {
      "text/html": [
       "<div>\n",
       "<style scoped>\n",
       "    .dataframe tbody tr th:only-of-type {\n",
       "        vertical-align: middle;\n",
       "    }\n",
       "\n",
       "    .dataframe tbody tr th {\n",
       "        vertical-align: top;\n",
       "    }\n",
       "\n",
       "    .dataframe thead th {\n",
       "        text-align: right;\n",
       "    }\n",
       "</style>\n",
       "<table border=\"1\" class=\"dataframe\">\n",
       "  <thead>\n",
       "    <tr style=\"text-align: right;\">\n",
       "      <th></th>\n",
       "      <th>Monica</th>\n",
       "      <th>Jake</th>\n",
       "      <th>Sarah</th>\n",
       "    </tr>\n",
       "  </thead>\n",
       "  <tbody>\n",
       "    <tr>\n",
       "      <td>age</td>\n",
       "      <td>44</td>\n",
       "      <td>39</td>\n",
       "      <td>37</td>\n",
       "    </tr>\n",
       "    <tr>\n",
       "      <td>salary</td>\n",
       "      <td>41200</td>\n",
       "      <td>32400</td>\n",
       "      <td>61400</td>\n",
       "    </tr>\n",
       "  </tbody>\n",
       "</table>\n",
       "</div>"
      ],
      "text/plain": [
       "        Monica   Jake  Sarah\n",
       "age         44     39     37\n",
       "salary   41200  32400  61400"
      ]
     },
     "execution_count": 10,
     "metadata": {},
     "output_type": "execute_result"
    }
   ],
   "source": [
    "staff = pd.DataFrame(staff_lst, index = ['age', 'salary'])\n",
    "staff"
   ]
  },
  {
   "cell_type": "markdown",
   "metadata": {},
   "source": [
    "Now it looks better. But what if some of the keys are only in one dictionary, but the other? In such a case the missing data will be filled in with NaN values. NaN stands for 'Not a Number'. We're going to discuss NaN values in one of my future articles in this series.\n",
    "\n",
    "Anyway, to demonstrate how it works, let's make some changes to our dictionaries and even let's add one more:"
   ]
  },
  {
   "cell_type": "code",
   "execution_count": 12,
   "metadata": {},
   "outputs": [
    {
     "data": {
      "text/html": [
       "<div>\n",
       "<style scoped>\n",
       "    .dataframe tbody tr th:only-of-type {\n",
       "        vertical-align: middle;\n",
       "    }\n",
       "\n",
       "    .dataframe tbody tr th {\n",
       "        vertical-align: top;\n",
       "    }\n",
       "\n",
       "    .dataframe thead th {\n",
       "        text-align: right;\n",
       "    }\n",
       "</style>\n",
       "<table border=\"1\" class=\"dataframe\">\n",
       "  <thead>\n",
       "    <tr style=\"text-align: right;\">\n",
       "      <th></th>\n",
       "      <th>Monica</th>\n",
       "      <th>Jake</th>\n",
       "      <th>Sarah</th>\n",
       "      <th>Ben</th>\n",
       "      <th>Bryce</th>\n",
       "      <th>Joe</th>\n",
       "    </tr>\n",
       "  </thead>\n",
       "  <tbody>\n",
       "    <tr>\n",
       "      <td>age</td>\n",
       "      <td>44.0</td>\n",
       "      <td>39</td>\n",
       "      <td>37</td>\n",
       "      <td>41.0</td>\n",
       "      <td>NaN</td>\n",
       "      <td>NaN</td>\n",
       "    </tr>\n",
       "    <tr>\n",
       "      <td>salary</td>\n",
       "      <td>41200.0</td>\n",
       "      <td>32400</td>\n",
       "      <td>61400</td>\n",
       "      <td>NaN</td>\n",
       "      <td>49.0</td>\n",
       "      <td>NaN</td>\n",
       "    </tr>\n",
       "    <tr>\n",
       "      <td>sales</td>\n",
       "      <td>NaN</td>\n",
       "      <td>741877</td>\n",
       "      <td>99874</td>\n",
       "      <td>425654.0</td>\n",
       "      <td>331458.0</td>\n",
       "      <td>174541.0</td>\n",
       "    </tr>\n",
       "  </tbody>\n",
       "</table>\n",
       "</div>"
      ],
      "text/plain": [
       "         Monica    Jake  Sarah       Ben     Bryce       Joe\n",
       "age        44.0      39     37      41.0       NaN       NaN\n",
       "salary  41200.0   32400  61400       NaN      49.0       NaN\n",
       "sales       NaN  741877  99874  425654.0  331458.0  174541.0"
      ]
     },
     "execution_count": 12,
     "metadata": {},
     "output_type": "execute_result"
    }
   ],
   "source": [
    "# dictionary 1:\n",
    "age_dict = {'Monica': 44, 'Jake': 39, 'Sarah': 37, 'Ben': 41}\n",
    "\n",
    "# dictionary 2:\n",
    "salary_dict = {'Bryce': 49, 'Monica': 41200, 'Jake': 32400, 'Sarah': 61400}\n",
    "\n",
    "# dictionary 3:\n",
    "sales_dict = {'Bryce': 331458, 'Jake': 741877, 'Ben': 425654, 'Sarah': 99874, 'Joe': 174541}\n",
    "\n",
    "# list of dictionaries\n",
    "staff_lst = [age_dict, salary_dict, sales_dict]\n",
    "\n",
    "# DataFrame\n",
    "staff = pd.DataFrame(staff_lst, index = ['age', 'salary', 'sales'])\n",
    "\n",
    "staff"
   ]
  },
  {
   "cell_type": "markdown",
   "metadata": {},
   "source": [
    "As a side effect the numbers in columns with NaN values were converted to floats."
   ]
  },
  {
   "cell_type": "markdown",
   "metadata": {},
   "source": [
    "DataFrame from a Two-Dimensional numpy Array\n",
    "\n",
    "In our last example in this article we'll create a DataFrame from a two-dimensional numpy array:"
   ]
  },
  {
   "cell_type": "code",
   "execution_count": 13,
   "metadata": {},
   "outputs": [
    {
     "data": {
      "text/plain": [
       "array([[0.78923546, 0.22045163, 0.20547258, 0.27474091],\n",
       "       [0.98599478, 0.79942169, 0.83339034, 0.42043241],\n",
       "       [0.63522506, 0.74496412, 0.11338136, 0.69158224]])"
      ]
     },
     "execution_count": 13,
     "metadata": {},
     "output_type": "execute_result"
    }
   ],
   "source": [
    "# let's define a numpy array\n",
    "random_arr = np.random.rand(3, 4)\n",
    "\n",
    "random_arr"
   ]
  },
  {
   "cell_type": "code",
   "execution_count": 14,
   "metadata": {},
   "outputs": [
    {
     "data": {
      "text/html": [
       "<div>\n",
       "<style scoped>\n",
       "    .dataframe tbody tr th:only-of-type {\n",
       "        vertical-align: middle;\n",
       "    }\n",
       "\n",
       "    .dataframe tbody tr th {\n",
       "        vertical-align: top;\n",
       "    }\n",
       "\n",
       "    .dataframe thead th {\n",
       "        text-align: right;\n",
       "    }\n",
       "</style>\n",
       "<table border=\"1\" class=\"dataframe\">\n",
       "  <thead>\n",
       "    <tr style=\"text-align: right;\">\n",
       "      <th></th>\n",
       "      <th>0</th>\n",
       "      <th>1</th>\n",
       "      <th>2</th>\n",
       "      <th>3</th>\n",
       "    </tr>\n",
       "  </thead>\n",
       "  <tbody>\n",
       "    <tr>\n",
       "      <td>0</td>\n",
       "      <td>0.789235</td>\n",
       "      <td>0.220452</td>\n",
       "      <td>0.205473</td>\n",
       "      <td>0.274741</td>\n",
       "    </tr>\n",
       "    <tr>\n",
       "      <td>1</td>\n",
       "      <td>0.985995</td>\n",
       "      <td>0.799422</td>\n",
       "      <td>0.833390</td>\n",
       "      <td>0.420432</td>\n",
       "    </tr>\n",
       "    <tr>\n",
       "      <td>2</td>\n",
       "      <td>0.635225</td>\n",
       "      <td>0.744964</td>\n",
       "      <td>0.113381</td>\n",
       "      <td>0.691582</td>\n",
       "    </tr>\n",
       "  </tbody>\n",
       "</table>\n",
       "</div>"
      ],
      "text/plain": [
       "          0         1         2         3\n",
       "0  0.789235  0.220452  0.205473  0.274741\n",
       "1  0.985995  0.799422  0.833390  0.420432\n",
       "2  0.635225  0.744964  0.113381  0.691582"
      ]
     },
     "execution_count": 14,
     "metadata": {},
     "output_type": "execute_result"
    }
   ],
   "source": [
    "# and now let's use it to create a DataFrame\n",
    "pd.DataFrame(random_arr)"
   ]
  },
  {
   "cell_type": "code",
   "execution_count": 15,
   "metadata": {},
   "outputs": [
    {
     "data": {
      "text/html": [
       "<div>\n",
       "<style scoped>\n",
       "    .dataframe tbody tr th:only-of-type {\n",
       "        vertical-align: middle;\n",
       "    }\n",
       "\n",
       "    .dataframe tbody tr th {\n",
       "        vertical-align: top;\n",
       "    }\n",
       "\n",
       "    .dataframe thead th {\n",
       "        text-align: right;\n",
       "    }\n",
       "</style>\n",
       "<table border=\"1\" class=\"dataframe\">\n",
       "  <thead>\n",
       "    <tr style=\"text-align: right;\">\n",
       "      <th></th>\n",
       "      <th>A</th>\n",
       "      <th>B</th>\n",
       "      <th>C</th>\n",
       "      <th>D</th>\n",
       "    </tr>\n",
       "  </thead>\n",
       "  <tbody>\n",
       "    <tr>\n",
       "      <td>version 1</td>\n",
       "      <td>0.789235</td>\n",
       "      <td>0.220452</td>\n",
       "      <td>0.205473</td>\n",
       "      <td>0.274741</td>\n",
       "    </tr>\n",
       "    <tr>\n",
       "      <td>version 2</td>\n",
       "      <td>0.985995</td>\n",
       "      <td>0.799422</td>\n",
       "      <td>0.833390</td>\n",
       "      <td>0.420432</td>\n",
       "    </tr>\n",
       "    <tr>\n",
       "      <td>version 3</td>\n",
       "      <td>0.635225</td>\n",
       "      <td>0.744964</td>\n",
       "      <td>0.113381</td>\n",
       "      <td>0.691582</td>\n",
       "    </tr>\n",
       "  </tbody>\n",
       "</table>\n",
       "</div>"
      ],
      "text/plain": [
       "                  A         B         C         D\n",
       "version 1  0.789235  0.220452  0.205473  0.274741\n",
       "version 2  0.985995  0.799422  0.833390  0.420432\n",
       "version 3  0.635225  0.744964  0.113381  0.691582"
      ]
     },
     "execution_count": 15,
     "metadata": {},
     "output_type": "execute_result"
    }
   ],
   "source": [
    "# naturally, we could have specified the column and index names as well\n",
    "pd.DataFrame(random_arr, \n",
    "            columns = ['A', 'B', 'C', 'D'],\n",
    "            index = ['version 1', 'version 2', 'version 3'])"
   ]
  },
  {
   "cell_type": "markdown",
   "metadata": {},
   "source": [
    "And there are other ways of creating DataFrame objects as well, like for example from regular Python lists, but the ones discussed above are the ones we'll be making use of most."
   ]
  }
 ],
 "metadata": {
  "kernelspec": {
   "display_name": "Python 3",
   "language": "python",
   "name": "python3"
  },
  "language_info": {
   "codemirror_mode": {
    "name": "ipython",
    "version": 3
   },
   "file_extension": ".py",
   "mimetype": "text/x-python",
   "name": "python",
   "nbconvert_exporter": "python",
   "pygments_lexer": "ipython3",
   "version": "3.7.4"
  }
 },
 "nbformat": 4,
 "nbformat_minor": 2
}
