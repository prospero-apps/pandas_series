{
 "cells": [
  {
   "cell_type": "markdown",
   "metadata": {},
   "source": [
    "PANDAS MULTI-INDEX\n",
    "\n",
    "The two data structures that you know, Series and DataFrame, are basically used for one- and two-dimensional data respectively. But you can also use them with higher-dimensional data. It consists of creating several index levels within a single index. We call it multi-indexing.\n",
    "\n",
    "Let's jump right into an example. Suppose we have data concerning the sales by several companies in a city. We have the data for each company for two yearly time periods. We'll start by creating a list of tuples where each tuple contains the name of the company and one yearly period. Then we'll create a list with the sales. To keep things simple, the sales will be in thousands, so if there is 450, it means $450,000. Then we'll make a Series object from the list using the tuples as indices. Have a look:"
   ]
  },
  {
   "cell_type": "code",
   "execution_count": 3,
   "metadata": {},
   "outputs": [
    {
     "data": {
      "text/plain": [
       "(Company A, 2018)    125\n",
       "(Company A, 2019)    211\n",
       "(Company B, 2018)    390\n",
       "(Company B, 2019)    455\n",
       "(Company C, 2018)    475\n",
       "(Company C, 2019)    655\n",
       "dtype: int64"
      ]
     },
     "execution_count": 3,
     "metadata": {},
     "output_type": "execute_result"
    }
   ],
   "source": [
    "import numpy as np\n",
    "import pandas as pd\n",
    "\n",
    "# the tuples used as indices\n",
    "index = [('Company A', 2018), ('Company A', 2019),\n",
    "        ('Company B', 2018), ('Company B', 2019),\n",
    "        ('Company C', 2018), ('Company C', 2019)]\n",
    "\n",
    "# the list of sales\n",
    "sales = [125, 211,\n",
    "        390, 455,\n",
    "        475, 655]\n",
    "\n",
    "# Let's create a Series object.\n",
    "s = pd.Series(sales, index=index)\n",
    "\n",
    "# Let's print out the Series object.\n",
    "s"
   ]
  },
  {
   "cell_type": "markdown",
   "metadata": {},
   "source": [
    "We're only halfway there. Although you could use tuple indices like the ones above, it's not very convenient or efficient. So, let's move on and create a multi-index. We already havethe tuples, so we can use the from_tuples method:"
   ]
  },
  {
   "cell_type": "code",
   "execution_count": 4,
   "metadata": {},
   "outputs": [
    {
     "data": {
      "text/plain": [
       "MultiIndex([('Company A', 2018),\n",
       "            ('Company A', 2019),\n",
       "            ('Company B', 2018),\n",
       "            ('Company B', 2019),\n",
       "            ('Company C', 2018),\n",
       "            ('Company C', 2019)],\n",
       "           )"
      ]
     },
     "execution_count": 4,
     "metadata": {},
     "output_type": "execute_result"
    }
   ],
   "source": [
    "# Here's the multi-index.\n",
    "m_index = pd.MultiIndex.from_tuples(index)\n",
    "\n",
    "# It looks like so:\n",
    "m_index"
   ]
  },
  {
   "cell_type": "markdown",
   "metadata": {},
   "source": [
    "A multi-index contains several levels of indexing. In our case there are two: the company names and the time periods. It also contains several codes, which are used to access to elements contained in the levels. Let's check them out:"
   ]
  },
  {
   "cell_type": "code",
   "execution_count": 5,
   "metadata": {},
   "outputs": [
    {
     "data": {
      "text/plain": [
       "FrozenList([['Company A', 'Company B', 'Company C'], [2018, 2019]])"
      ]
     },
     "execution_count": 5,
     "metadata": {},
     "output_type": "execute_result"
    }
   ],
   "source": [
    "# Here are the levels.\n",
    "m_index.levels"
   ]
  },
  {
   "cell_type": "code",
   "execution_count": 7,
   "metadata": {},
   "outputs": [
    {
     "data": {
      "text/plain": [
       "FrozenList([[0, 0, 1, 1, 2, 2], [0, 1, 0, 1, 0, 1]])"
      ]
     },
     "execution_count": 7,
     "metadata": {},
     "output_type": "execute_result"
    }
   ],
   "source": [
    "# Here are the codes.\n",
    "m_index.codes"
   ]
  },
  {
   "cell_type": "markdown",
   "metadata": {},
   "source": [
    "If you have a look at the codes, you'll notice that if you take the elements from both FrozenLists in pairs (the ones at the same positions in the lists), you'll see how the pieces of data in the levels are related to one another. So, for example the first pair is (0, 0), which means the first elements in both levels lists: ('Company A', 2018), the next pair is (0, 1), which corresponds to ('Company A', 2019). The third pair is (1, 0), which corresponds to ('Company B', 2018), and so on.\n",
    "\n",
    "If you want to see the data in a hierarchical way, you have to reindex your data:"
   ]
  },
  {
   "cell_type": "code",
   "execution_count": 9,
   "metadata": {},
   "outputs": [
    {
     "data": {
      "text/plain": [
       "Company A  2018    125\n",
       "           2019    211\n",
       "Company B  2018    390\n",
       "           2019    455\n",
       "Company C  2018    475\n",
       "           2019    655\n",
       "dtype: int64"
      ]
     },
     "execution_count": 9,
     "metadata": {},
     "output_type": "execute_result"
    }
   ],
   "source": [
    "# Let's reindex the Series object.\n",
    "s = s.reindex(m_index)\n",
    "s"
   ]
  },
  {
   "cell_type": "markdown",
   "metadata": {},
   "source": [
    "Now, the missing data in some lines just means the same data is meant as in the line above. In the example above the two first columns belong to the index and the last column to the data. \n",
    "\n",
    "You can easily access the data using the multi-index. Here an example:"
   ]
  },
  {
   "cell_type": "code",
   "execution_count": 10,
   "metadata": {},
   "outputs": [
    {
     "data": {
      "text/plain": [
       "Company A    211\n",
       "Company B    455\n",
       "Company C    655\n",
       "dtype: int64"
      ]
     },
     "execution_count": 10,
     "metadata": {},
     "output_type": "execute_result"
    }
   ],
   "source": [
    "# the 2019 period for all companies\n",
    "s[:, 2019]"
   ]
  }
 ],
 "metadata": {
  "kernelspec": {
   "display_name": "Python 3",
   "language": "python",
   "name": "python3"
  },
  "language_info": {
   "codemirror_mode": {
    "name": "ipython",
    "version": 3
   },
   "file_extension": ".py",
   "mimetype": "text/x-python",
   "name": "python",
   "nbconvert_exporter": "python",
   "pygments_lexer": "ipython3",
   "version": "3.7.4"
  }
 },
 "nbformat": 4,
 "nbformat_minor": 2
}
