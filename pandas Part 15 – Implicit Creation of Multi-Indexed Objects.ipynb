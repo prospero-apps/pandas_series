{
 "cells": [
  {
   "cell_type": "markdown",
   "metadata": {},
   "source": [
    "IMPLICIT CREATION OF MULTI-INDEXED OBJECTS\n",
    "\n",
    "In the previous couple articles in the Pandas series we were talking about multi-indexed objects. But sometimes multi-indexed objects are created behind the scenes. The two common scenarios involve passing the following to the constructor of a Series or DataFrame object:\n",
    "\n",
    "- multiple index arrays \n",
    "- dictionaries where the keys are tuples containing the indices\n",
    "\n",
    "Let's have a look at them now.\n",
    "\n",
    "MULTIPLE INDEX ARRAYS\n",
    "\n",
    "Passing multiple (often two, but there may be more) index array is a quick way of creating a multi-indexed object. Hare's an example:"
   ]
  },
  {
   "cell_type": "code",
   "execution_count": 2,
   "metadata": {},
   "outputs": [
    {
     "data": {
      "text/html": [
       "<div>\n",
       "<style scoped>\n",
       "    .dataframe tbody tr th:only-of-type {\n",
       "        vertical-align: middle;\n",
       "    }\n",
       "\n",
       "    .dataframe tbody tr th {\n",
       "        vertical-align: top;\n",
       "    }\n",
       "\n",
       "    .dataframe thead th {\n",
       "        text-align: right;\n",
       "    }\n",
       "</style>\n",
       "<table border=\"1\" class=\"dataframe\">\n",
       "  <thead>\n",
       "    <tr style=\"text-align: right;\">\n",
       "      <th></th>\n",
       "      <th></th>\n",
       "      <th>spring</th>\n",
       "      <th>summer</th>\n",
       "      <th>fall</th>\n",
       "      <th>winter</th>\n",
       "    </tr>\n",
       "  </thead>\n",
       "  <tbody>\n",
       "    <tr>\n",
       "      <td rowspan=\"2\" valign=\"top\">shirts</td>\n",
       "      <td>blue</td>\n",
       "      <td>1180</td>\n",
       "      <td>1438</td>\n",
       "      <td>1838</td>\n",
       "      <td>1507</td>\n",
       "    </tr>\n",
       "    <tr>\n",
       "      <td>red</td>\n",
       "      <td>1335</td>\n",
       "      <td>1604</td>\n",
       "      <td>1998</td>\n",
       "      <td>1845</td>\n",
       "    </tr>\n",
       "    <tr>\n",
       "      <td rowspan=\"2\" valign=\"top\">pants</td>\n",
       "      <td>blue</td>\n",
       "      <td>1628</td>\n",
       "      <td>1329</td>\n",
       "      <td>1951</td>\n",
       "      <td>1174</td>\n",
       "    </tr>\n",
       "    <tr>\n",
       "      <td>red</td>\n",
       "      <td>1345</td>\n",
       "      <td>1560</td>\n",
       "      <td>1587</td>\n",
       "      <td>1535</td>\n",
       "    </tr>\n",
       "  </tbody>\n",
       "</table>\n",
       "</div>"
      ],
      "text/plain": [
       "             spring  summer  fall  winter\n",
       "shirts blue    1180    1438  1838    1507\n",
       "       red     1335    1604  1998    1845\n",
       "pants  blue    1628    1329  1951    1174\n",
       "       red     1345    1560  1587    1535"
      ]
     },
     "execution_count": 2,
     "metadata": {},
     "output_type": "execute_result"
    }
   ],
   "source": [
    "import numpy as np\n",
    "import pandas as pd\n",
    "\n",
    "# Let's create a DataFrame with random numeric data.\n",
    "# The arguments passed to the np.random.randint functions are: \n",
    "# 1000 - from value, inclusive\n",
    "# 2000 - to value, exclusive\n",
    "# (4, 4) - shape\n",
    "a = pd.DataFrame(np.random.randint(1000, 2000, (4, 4)),\n",
    "                 index=[['shirts', 'shirts', 'pants', 'pants'], ['blue', 'red', 'blue', 'red']],\n",
    "                 columns=['spring', 'summer', 'fall', 'winter'])\n",
    "\n",
    "# And here's our multi-indexed DataFrame object.\n",
    "a"
   ]
  },
  {
   "cell_type": "markdown",
   "metadata": {},
   "source": [
    "DICTIONARIES\n",
    "\n",
    "The other method of implicitly creating multi-indexed objects is by means of dictionaries. We just have to pass the indices in tuples as keys. Here's an example:"
   ]
  },
  {
   "cell_type": "code",
   "execution_count": 3,
   "metadata": {},
   "outputs": [
    {
     "data": {
      "text/plain": [
       "product 1  regular price    125\n",
       "           reduced price     84\n",
       "product 2  regular price    265\n",
       "           reduced price    182\n",
       "product 3  regular price    350\n",
       "           reduced price    280\n",
       "dtype: int64"
      ]
     },
     "execution_count": 3,
     "metadata": {},
     "output_type": "execute_result"
    }
   ],
   "source": [
    "# This time we'll create a Series object.\n",
    "# Let's define the dictionary with our data.\n",
    "data = {('product 1', 'regular price'): 125,\n",
    "        ('product 1', 'reduced price'): 84,\n",
    "        ('product 2', 'regular price'): 265,\n",
    "        ('product 2', 'reduced price'): 182,\n",
    "        ('product 3', 'regular price'): 350,\n",
    "        ('product 3', 'reduced price'): 280}\n",
    "\n",
    "# Let's use the dictionary in the constructor of a Series object.\n",
    "b = pd.Series(data)\n",
    "\n",
    "# Here's our multi-indexed object.\n",
    "b"
   ]
  },
  {
   "cell_type": "markdown",
   "metadata": {},
   "source": [
    "In the next article we'll see how to explicitly create multi-indexed objects."
   ]
  }
 ],
 "metadata": {
  "kernelspec": {
   "display_name": "Python 3",
   "language": "python",
   "name": "python3"
  },
  "language_info": {
   "codemirror_mode": {
    "name": "ipython",
    "version": 3
   },
   "file_extension": ".py",
   "mimetype": "text/x-python",
   "name": "python",
   "nbconvert_exporter": "python",
   "pygments_lexer": "ipython3",
   "version": "3.7.4"
  }
 },
 "nbformat": 4,
 "nbformat_minor": 2
}
